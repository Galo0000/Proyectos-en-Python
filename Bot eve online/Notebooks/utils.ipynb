{
 "cells": [
  {
   "cell_type": "code",
   "execution_count": 2,
   "metadata": {},
   "outputs": [
    {
     "name": "stdout",
     "output_type": "stream",
     "text": [
      "1724,325,124,18\n"
     ]
    }
   ],
   "source": [
    "import cv2\n",
    "import numpy as np\n",
    "\n",
    "# Variables globales para registrar eventos del mouse\n",
    "drawing = False\n",
    "ix, iy = -1, -1\n",
    "fx, fy = -1, -1\n",
    "coords_obtenidas = False\n",
    "\n",
    "# Función de callback para el evento del mouse\n",
    "def draw_rectangle(event, x, y, flags, param):\n",
    "    global ix, iy, fx, fy, drawing, coords_obtenidas\n",
    "\n",
    "    if event == cv2.EVENT_LBUTTONDOWN:\n",
    "        drawing = True\n",
    "        ix, iy = x, y\n",
    "        fx, fy = x, y\n",
    "        coords_obtenidas = False\n",
    "\n",
    "    elif event == cv2.EVENT_MOUSEMOVE:\n",
    "        if drawing:\n",
    "            fx, fy = x, y\n",
    "\n",
    "    elif event == cv2.EVENT_LBUTTONUP:\n",
    "        drawing = False\n",
    "        fx, fy = x, y\n",
    "        coords_obtenidas = True\n",
    "\n",
    "# Cargar la imagen\n",
    "image = cv2.imread('util_test.jpg')  # Cambia 'tu_imagen.png' al archivo de imagen deseado\n",
    "height, width, _ = image.shape\n",
    "\n",
    "# Crea una ventana y asigna la función de callback del mouse\n",
    "cv2.namedWindow('Dibuja un rectángulo', cv2.WINDOW_NORMAL)  # Utiliza cv2.WINDOW_NORMAL para permitir cambiar el tamaño\n",
    "cv2.setMouseCallback('Dibuja un rectángulo', draw_rectangle)\n",
    "\n",
    "while True:\n",
    "    img_copy = image.copy()\n",
    "\n",
    "    # Dibuja un rectángulo en tiempo real\n",
    "    if not drawing:\n",
    "        # Ajusta las coordenadas para que estén dentro de los límites de la imagen\n",
    "        ix, iy = max(0, min(ix, width - 1)), max(0, min(iy, height - 1))\n",
    "        fx, fy = max(0, min(fx, width - 1)), max(0, min(fy, height - 1))\n",
    "        cv2.rectangle(img_copy, (ix, iy), (fx, fy), (0, 255, 0), 1)\n",
    "\n",
    "    cv2.imshow('Dibuja un rectángulo', img_copy)\n",
    "\n",
    "    # Maximiza la ventana\n",
    "    cv2.setWindowProperty('Dibuja un rectángulo', cv2.WND_PROP_FULLSCREEN, cv2.WINDOW_FULLSCREEN)\n",
    "\n",
    "    # Espera a que se presione la tecla 'Enter' para obtener las coordenadas\n",
    "    key = cv2.waitKey(1)\n",
    "    if coords_obtenidas and key == 13:  # 13 es el código ASCII de Enter\n",
    "        break\n",
    "\n",
    "cv2.destroyAllWindows()\n",
    "\n",
    "# Calcula las coordenadas del rectángulo\n",
    "left = min(ix, fx)\n",
    "top = min(iy, fy)\n",
    "width = abs(ix - fx)\n",
    "height = abs(iy - fy)\n",
    "\n",
    "# Imprime las coordenadas del rectángulo en el formato left, top, width, height\n",
    "print(f\"{left},{top},{width},{height}\")\n",
    "\n"
   ]
  }
 ],
 "metadata": {
  "kernelspec": {
   "display_name": "AI_eveonline",
   "language": "python",
   "name": "python3"
  },
  "language_info": {
   "codemirror_mode": {
    "name": "ipython",
    "version": 3
   },
   "file_extension": ".py",
   "mimetype": "text/x-python",
   "name": "python",
   "nbconvert_exporter": "python",
   "pygments_lexer": "ipython3",
   "version": "3.10.13"
  }
 },
 "nbformat": 4,
 "nbformat_minor": 2
}
