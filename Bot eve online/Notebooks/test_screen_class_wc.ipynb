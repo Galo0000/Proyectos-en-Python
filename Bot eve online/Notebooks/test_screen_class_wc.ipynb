{
 "cells": [
  {
   "cell_type": "code",
   "execution_count": 16,
   "metadata": {},
   "outputs": [],
   "source": [
    "import numpy as np\n",
    "import win32gui, win32ui, win32con\n",
    "from threading import Thread, Lock\n",
    "from windowcapture import WindowCapture\n",
    "import cv2\n",
    "import os"
   ]
  },
  {
   "cell_type": "code",
   "execution_count": 2,
   "metadata": {},
   "outputs": [],
   "source": [
    "# Cargar la imagen en la que quieres buscar la otra imagen\n",
    "imagen_principal = cv2.imread('Screenshot.jpg')\n",
    "\n",
    "# Cargar la imagen que quieres buscar dentro de la imagen principal\n",
    "imagen_a_buscar = cv2.imread('buscar.jpg')\n",
    "\n",
    "# Buscar la imagen en la imagen principal\n",
    "resultado = cv2.matchTemplate(imagen_principal, imagen_a_buscar, cv2.TM_CCOEFF_NORMED)\n",
    "\n",
    "# Definir un umbral para la confianza de la coincidencia\n",
    "umbral = 0.8\n",
    "\n",
    "# Encontrar las ubicaciones donde la confianza de coincidencia es mayor que el umbral\n",
    "ubicaciones = np.where(resultado >= umbral)\n",
    "\n",
    "# Dibujar un rectángulo verde alrededor de cada ubicación encontrada\n",
    "for punto in zip(*ubicaciones[::-1]):\n",
    "    inicio = punto\n",
    "    fin = (inicio[0] + imagen_a_buscar.shape[1], inicio[1] + imagen_a_buscar.shape[0])\n",
    "    cv2.rectangle(imagen_principal, inicio, fin, (0, 255, 0), 2)\n",
    "\n",
    "# Mostrar la imagen con los rectángulos dibujados\n",
    "cv2.imshow('Imagen con Rectángulos', imagen_principal)\n",
    "cv2.waitKey(0)\n",
    "cv2.destroyAllWindows()"
   ]
  },
  {
   "cell_type": "code",
   "execution_count": 17,
   "metadata": {},
   "outputs": [],
   "source": [
    "wincap = WindowCapture(\"EVE - Guileo Galo\")\n",
    "while(True):\n",
    "    screenshot = wincap.get_screenshot()\n",
    "    # Convertir la captura de pantalla a una imagen OpenCV\n",
    "    #screenshot_cv = cv2.cvtColor(np.array(screenshot), cv2.COLOR_RGB2BGR)\n",
    "    cv2.imshow('eveonline', screenshot)\n",
    "    if cv2.waitKey(1) == ord('q'):\n",
    "        cv2.destroyAllWindows()\n",
    "        break"
   ]
  },
  {
   "cell_type": "code",
   "execution_count": 18,
   "metadata": {},
   "outputs": [],
   "source": [
    "def list_window_names():\n",
    "    def winEnumHandler(hwnd,ctx):\n",
    "        if win32gui.IsWindowVisible(hwnd):\n",
    "            print(hex(hwnd),win32gui.GetWindowText(hwnd))\n",
    "    win32gui.EnumWindows(winEnumHandler,None)"
   ]
  },
  {
   "cell_type": "code",
   "execution_count": 19,
   "metadata": {},
   "outputs": [
    {
     "name": "stdout",
     "output_type": "stream",
     "text": [
      "0x100b2 \n",
      "0x10616 test_screen_class_wc.ipynb - Untitled (Workspace) - Visual Studio Code\n",
      "0x906d4 EVE - Guileo Galo\n",
      "0x104f6 Ver Sony Channel en VIVO Online Por internet GRATIS - TV Libre - Brave\n",
      "0x10810 EVE Online Launcher\n",
      "0x6084c Notebooks\n",
      "0x206ea Ofertas especiales\n",
      "0x1806a2 Steam\n",
      "0x200a4 Binance\n",
      "0x1049c Configuración\n",
      "0x703fa Configuración\n",
      "0x2047e \n",
      "0x20464 Calculadora\n",
      "0x20214 Calculadora\n",
      "0x1018e \n",
      "0x10186 \n",
      "0x1016c \n",
      "0x1016a \n",
      "0x30086 Microsoft Text Input Application\n",
      "0x105b4 GitHub Desktop\n",
      "0x805f4 Anaconda Navigator\n",
      "0x10130 Program Manager\n"
     ]
    }
   ],
   "source": [
    "list_window_names()"
   ]
  },
  {
   "cell_type": "code",
   "execution_count": 10,
   "metadata": {},
   "outputs": [
    {
     "data": {
      "text/plain": [
       "591572"
      ]
     },
     "execution_count": 10,
     "metadata": {},
     "output_type": "execute_result"
    }
   ],
   "source": [
    "hwnd = win32gui.FindWindow(None,'EVE - Guileo Galo')\n",
    "hwnd"
   ]
  },
  {
   "cell_type": "code",
   "execution_count": 20,
   "metadata": {},
   "outputs": [
    {
     "data": {
      "text/plain": [
       "(-8, -8, 1928, 1048)"
      ]
     },
     "execution_count": 20,
     "metadata": {},
     "output_type": "execute_result"
    }
   ],
   "source": [
    "window_rect = win32gui.GetWindowRect(hwnd)\n",
    "window_rect"
   ]
  },
  {
   "cell_type": "code",
   "execution_count": 21,
   "metadata": {},
   "outputs": [
    {
     "name": "stdout",
     "output_type": "stream",
     "text": [
      " 1936 , 1056\n"
     ]
    }
   ],
   "source": [
    "w = window_rect[2] - window_rect[0]\n",
    "h = window_rect[3] - window_rect[1]\n",
    "print(f' {w} , {h}')"
   ]
  },
  {
   "cell_type": "code",
   "execution_count": 22,
   "metadata": {},
   "outputs": [
    {
     "data": {
      "text/plain": [
       "151065274"
      ]
     },
     "execution_count": 22,
     "metadata": {},
     "output_type": "execute_result"
    }
   ],
   "source": [
    "wDC = win32gui.GetWindowDC(hwnd)\n",
    "wDC"
   ]
  },
  {
   "cell_type": "code",
   "execution_count": 23,
   "metadata": {},
   "outputs": [
    {
     "data": {
      "text/plain": [
       "object 'PyCDC' - assoc is 000001AA8FD5D1A8, vi=<None>"
      ]
     },
     "execution_count": 23,
     "metadata": {},
     "output_type": "execute_result"
    }
   ],
   "source": [
    "dcObj = win32ui.CreateDCFromHandle(wDC)\n",
    "dcObj"
   ]
  },
  {
   "cell_type": "code",
   "execution_count": 24,
   "metadata": {},
   "outputs": [
    {
     "data": {
      "text/plain": [
       "object 'PyCDC' - assoc is 000001AA8FD63AD8, vi=<None>"
      ]
     },
     "execution_count": 24,
     "metadata": {},
     "output_type": "execute_result"
    }
   ],
   "source": [
    "cDC = dcObj.CreateCompatibleDC()\n",
    "cDC"
   ]
  },
  {
   "cell_type": "code",
   "execution_count": 25,
   "metadata": {},
   "outputs": [
    {
     "data": {
      "text/plain": [
       "object 'PyCBitmap' - assoc is 000001AA8FF94810, vi=<None>"
      ]
     },
     "execution_count": 25,
     "metadata": {},
     "output_type": "execute_result"
    }
   ],
   "source": [
    "dataBitMap = win32ui.CreateBitmap()\n",
    "dataBitMap"
   ]
  },
  {
   "cell_type": "code",
   "execution_count": 26,
   "metadata": {},
   "outputs": [],
   "source": [
    "dataBitMap.CreateCompatibleBitmap(dcObj, w, h)"
   ]
  },
  {
   "cell_type": "code",
   "execution_count": 27,
   "metadata": {},
   "outputs": [
    {
     "data": {
      "text/plain": [
       "object 'PyCBitmap' - assoc is 000001AA8EC98518, vi=<None>"
      ]
     },
     "execution_count": 27,
     "metadata": {},
     "output_type": "execute_result"
    }
   ],
   "source": [
    "cDC.SelectObject(dataBitMap)"
   ]
  },
  {
   "cell_type": "markdown",
   "metadata": {},
   "source": [
    "***"
   ]
  },
  {
   "cell_type": "code",
   "execution_count": 19,
   "metadata": {},
   "outputs": [],
   "source": [
    "wincap = WindowCapture('EVE - Guileo Galo')"
   ]
  },
  {
   "cell_type": "markdown",
   "metadata": {},
   "source": [
    "***"
   ]
  },
  {
   "cell_type": "code",
   "execution_count": 28,
   "metadata": {},
   "outputs": [],
   "source": [
    "import numpy as np\n",
    "import win32gui, win32ui, win32con\n",
    "from PIL import Image\n",
    "from time import sleep\n",
    "import cv2 as cv\n",
    "import os\n",
    "\n",
    "class WindowCapture:\n",
    "    w = 0\n",
    "    h = 0\n",
    "    hwnd = None\n",
    "\n",
    "    def __init__(self, window_name):\n",
    "        self.hwnd = win32gui.FindWindow(None, window_name)\n",
    "        if not self.hwnd:\n",
    "            raise Exception('Window not found: {}'.format(window_name))\n",
    "\n",
    "        window_rect = win32gui.GetWindowRect(self.hwnd)\n",
    "        self.w = window_rect[2] - window_rect[0]\n",
    "        self.h = window_rect[3] - window_rect[1]\n",
    "\n",
    "        border_pixels = 8\n",
    "        titlebar_pixels = 30\n",
    "        self.w = self.w - (border_pixels * 2)\n",
    "        self.h = self.h - titlebar_pixels - border_pixels\n",
    "        self.cropped_x = border_pixels\n",
    "        self.cropped_y = titlebar_pixels\n",
    "\n",
    "    def get_screenshot(self):\n",
    "        wDC = win32gui.GetWindowDC(self.hwnd)\n",
    "        dcObj = win32ui.CreateDCFromHandle(wDC)\n",
    "        cDC = dcObj.CreateCompatibleDC()\n",
    "        dataBitMap = win32ui.CreateBitmap()\n",
    "        dataBitMap.CreateCompatibleBitmap(dcObj, self.w, self.h)\n",
    "        cDC.SelectObject(dataBitMap)\n",
    "        cDC.BitBlt((0, 0), (self.w, self.h), dcObj, (self.cropped_x, self.cropped_y), win32con.SRCCOPY)\n",
    "\n",
    "        signedIntsArray = dataBitMap.GetBitmapBits(True)\n",
    "        img = np.frombuffer(signedIntsArray, dtype='uint8')\n",
    "        img.shape = (self.h, self.w, 4)\n",
    "\n",
    "        dcObj.DeleteDC()\n",
    "        cDC.DeleteDC()\n",
    "        win32gui.ReleaseDC(self.hwnd, wDC)\n",
    "        win32gui.DeleteObject(dataBitMap.GetHandle())\n",
    "\n",
    "        img = img[..., :3]  # Eliminar el canal alfa\n",
    "        img = np.ascontiguousarray(img)\n",
    "\n",
    "        return img\n",
    "\n",
    "    def get_window_size(self):\n",
    "        return self.w, self.h"
   ]
  },
  {
   "cell_type": "code",
   "execution_count": 29,
   "metadata": {},
   "outputs": [],
   "source": [
    "wincap = WindowCapture(\"EVE Online Launcher\")\n",
    "while True:\n",
    "    screenshot = wincap.get_screenshot()\n",
    "    screenshot = cv.cvtColor(screenshot, cv.COLOR_RGB2BGR)  # Convertir de RGB a BGR\n",
    "    cv.imshow('eveonline', screenshot)\n",
    "    key = cv.waitKey(1)\n",
    "    if key == ord('q'):\n",
    "        cv.destroyAllWindows()\n",
    "        break"
   ]
  },
  {
   "cell_type": "code",
   "execution_count": 10,
   "metadata": {},
   "outputs": [
    {
     "ename": "error",
     "evalue": "CreateCompatibleDC failed",
     "output_type": "error",
     "traceback": [
      "\u001b[1;31m---------------------------------------------------------------------------\u001b[0m",
      "\u001b[1;31merror\u001b[0m                                     Traceback (most recent call last)",
      "Cell \u001b[1;32mIn[10], line 62\u001b[0m\n\u001b[0;32m     60\u001b[0m wincap \u001b[38;5;241m=\u001b[39m WindowCapture(\u001b[38;5;124m\"\u001b[39m\u001b[38;5;124mEVE Online Launcher\u001b[39m\u001b[38;5;124m\"\u001b[39m)\n\u001b[0;32m     61\u001b[0m \u001b[38;5;28;01mwhile\u001b[39;00m \u001b[38;5;28;01mTrue\u001b[39;00m:\n\u001b[1;32m---> 62\u001b[0m     screenshot \u001b[38;5;241m=\u001b[39m \u001b[43mwincap\u001b[49m\u001b[38;5;241;43m.\u001b[39;49m\u001b[43mget_screenshot\u001b[49m\u001b[43m(\u001b[49m\u001b[43m)\u001b[49m\n\u001b[0;32m     63\u001b[0m     cv\u001b[38;5;241m.\u001b[39mimshow(\u001b[38;5;124m'\u001b[39m\u001b[38;5;124meveonline\u001b[39m\u001b[38;5;124m'\u001b[39m, screenshot)\n\u001b[0;32m     64\u001b[0m     \u001b[38;5;28;01mif\u001b[39;00m cv\u001b[38;5;241m.\u001b[39mwaitKey(\u001b[38;5;241m1\u001b[39m) \u001b[38;5;241m==\u001b[39m \u001b[38;5;28mord\u001b[39m(\u001b[38;5;124m'\u001b[39m\u001b[38;5;124mq\u001b[39m\u001b[38;5;124m'\u001b[39m):\n",
      "Cell \u001b[1;32mIn[10], line 34\u001b[0m, in \u001b[0;36mWindowCapture.get_screenshot\u001b[1;34m(self)\u001b[0m\n\u001b[0;32m     32\u001b[0m cDC \u001b[38;5;241m=\u001b[39m dcObj\u001b[38;5;241m.\u001b[39mCreateCompatibleDC()\n\u001b[0;32m     33\u001b[0m dataBitMap \u001b[38;5;241m=\u001b[39m win32ui\u001b[38;5;241m.\u001b[39mCreateBitmap()\n\u001b[1;32m---> 34\u001b[0m \u001b[43mdataBitMap\u001b[49m\u001b[38;5;241;43m.\u001b[39;49m\u001b[43mCreateCompatibleBitmap\u001b[49m\u001b[43m(\u001b[49m\u001b[43mdcObj\u001b[49m\u001b[43m,\u001b[49m\u001b[43m \u001b[49m\u001b[38;5;28;43mself\u001b[39;49m\u001b[38;5;241;43m.\u001b[39;49m\u001b[43mw\u001b[49m\u001b[43m,\u001b[49m\u001b[43m \u001b[49m\u001b[38;5;28;43mself\u001b[39;49m\u001b[38;5;241;43m.\u001b[39;49m\u001b[43mh\u001b[49m\u001b[43m)\u001b[49m\n\u001b[0;32m     35\u001b[0m cDC\u001b[38;5;241m.\u001b[39mSelectObject(dataBitMap)\n\u001b[0;32m     36\u001b[0m cDC\u001b[38;5;241m.\u001b[39mBitBlt((\u001b[38;5;241m0\u001b[39m, \u001b[38;5;241m0\u001b[39m), (\u001b[38;5;28mself\u001b[39m\u001b[38;5;241m.\u001b[39mw, \u001b[38;5;28mself\u001b[39m\u001b[38;5;241m.\u001b[39mh), dcObj, (\u001b[38;5;28mself\u001b[39m\u001b[38;5;241m.\u001b[39mcropped_x, \u001b[38;5;28mself\u001b[39m\u001b[38;5;241m.\u001b[39mcropped_y), win32con\u001b[38;5;241m.\u001b[39mSRCCOPY)\n",
      "\u001b[1;31merror\u001b[0m: CreateCompatibleDC failed"
     ]
    }
   ],
   "source": [
    "import numpy as np\n",
    "import win32gui, win32ui, win32con\n",
    "from PIL import Image\n",
    "from time import sleep\n",
    "import cv2 as cv\n",
    "import os\n",
    "\n",
    "class WindowCapture:\n",
    "    w = 0\n",
    "    h = 0\n",
    "    hwnd = None\n",
    "\n",
    "    def __init__(self, window_name):\n",
    "        self.hwnd = win32gui.FindWindow(None, window_name)\n",
    "        if not self.hwnd:\n",
    "            raise Exception('Window not found: {}'.format(window_name))\n",
    "\n",
    "        window_rect = win32gui.GetWindowRect(self.hwnd)\n",
    "        self.w = window_rect[2] - window_rect[0]\n",
    "        self.h = window_rect[3] - window_rect[1]\n",
    "\n",
    "        border_pixels = 8\n",
    "        titlebar_pixels = 30\n",
    "        self.w = self.w - (border_pixels * 2)\n",
    "        self.h = self.h - titlebar_pixels - border_pixels\n",
    "        self.cropped_x = border_pixels\n",
    "        self.cropped_y = titlebar_pixels\n",
    "\n",
    "    def get_screenshot(self):\n",
    "        wDC = win32gui.GetWindowDC(self.hwnd)\n",
    "        dcObj = win32ui.CreateDCFromHandle(wDC)\n",
    "        cDC = dcObj.CreateCompatibleDC()\n",
    "        dataBitMap = win32ui.CreateBitmap()\n",
    "        dataBitMap.CreateCompatibleBitmap(dcObj, self.w, self.h)\n",
    "        cDC.SelectObject(dataBitMap)\n",
    "        cDC.BitBlt((0, 0), (self.w, self.h), dcObj, (self.cropped_x, self.cropped_y), win32con.SRCCOPY)\n",
    "\n",
    "        signedIntsArray = dataBitMap.GetBitmapBits(True)\n",
    "        img = np.frombuffer(signedIntsArray, dtype='uint8')\n",
    "        img.shape = (self.h, self.w, 4)\n",
    "\n",
    "        dcObj.DeleteDC()\n",
    "        cDC.DeleteDC()\n",
    "        win32gui.ReleaseDC(self.hwnd, wDC)\n",
    "        win32gui.DeleteObject(dataBitMap.GetHandle())\n",
    "\n",
    "        img = img[..., :3]  # Eliminar el canal alfa\n",
    "        img = np.ascontiguousarray(img)\n",
    "\n",
    "        # Verificar si la imagen es negra\n",
    "        if np.sum(img) == 0:\n",
    "            print(\"¡La imagen capturada es completamente negra! La detección se realizó después de capturar la imagen.\")\n",
    "\n",
    "        return img\n",
    "\n",
    "    def get_window_size(self):\n",
    "        return self.w, self.h\n",
    "\n",
    "# Ejemplo de uso\n",
    "wincap = WindowCapture(\"EVE Online Launcher\")\n",
    "while True:\n",
    "    screenshot = wincap.get_screenshot()\n",
    "    cv.imshow('eveonline', screenshot)\n",
    "    if cv.waitKey(1) == ord('q'):\n",
    "        cv.destroyAllWindows()\n",
    "        break\n"
   ]
  }
 ],
 "metadata": {
  "kernelspec": {
   "display_name": "ia_eveonline",
   "language": "python",
   "name": "python3"
  },
  "language_info": {
   "codemirror_mode": {
    "name": "ipython",
    "version": 3
   },
   "file_extension": ".py",
   "mimetype": "text/x-python",
   "name": "python",
   "nbconvert_exporter": "python",
   "pygments_lexer": "ipython3",
   "version": "3.10.13"
  }
 },
 "nbformat": 4,
 "nbformat_minor": 2
}
