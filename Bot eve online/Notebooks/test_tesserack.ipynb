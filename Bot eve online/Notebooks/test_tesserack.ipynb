{
 "cells": [
  {
   "cell_type": "code",
   "execution_count": 1,
   "metadata": {},
   "outputs": [],
   "source": [
    "import pytesseract\n",
    "from PIL import Image\n",
    "import os"
   ]
  },
  {
   "cell_type": "code",
   "execution_count": 4,
   "metadata": {},
   "outputs": [],
   "source": [
    "pytesseract.pytesseract.tesseract_cmd= r\"C:\\\\Program Files\\\\Tesseract-OCR\\\\tesseract.exe\""
   ]
  },
  {
   "cell_type": "code",
   "execution_count": 5,
   "metadata": {},
   "outputs": [
    {
     "name": "stdout",
     "output_type": "stream",
     "text": [
      "General Mining PVE VIAJE WRECK guarda\n",
      "\n"
     ]
    }
   ],
   "source": [
    "# Abre la imagen que contiene texto\n",
    "image_path = 'columns.jpg'  # Reemplaza con la ruta de tu imagen\n",
    "img = Image.open(image_path)\n",
    "\n",
    "# Utiliza pytesseract para realizar el OCR en la imagen\n",
    "text = pytesseract.image_to_string(img)\n",
    "\n",
    "# Imprime el texto extraído\n",
    "print(text)"
   ]
  },
  {
   "cell_type": "code",
   "execution_count": 9,
   "metadata": {},
   "outputs": [],
   "source": [
    "import cv2\n",
    "\n",
    "# Cargar la imagen\n",
    "image_path = 'text_plus.jpg'  # Reemplaza con la ruta de tu imagen\n",
    "img = cv2.imread(image_path)\n",
    "\n",
    "# Convertir la imagen a escala de grises\n",
    "gray = cv2.cvtColor(img, cv2.COLOR_BGR2GRAY)\n",
    "\n",
    "# Aplicar umbralización (binarización) para destacar el texto\n",
    "_, thresholded = cv2.threshold(gray, 0, 255, cv2.THRESH_BINARY + cv2.THRESH_OTSU)\n",
    "\n",
    "# Encontrar contornos en la imagen binarizada\n",
    "contours, _ = cv2.findContours(thresholded, cv2.RETR_EXTERNAL, cv2.CHAIN_APPROX_SIMPLE)\n",
    "\n",
    "# Iterar a través de los contornos y dibujar rectángulos alrededor del texto detectado\n",
    "for contour in contours:\n",
    "    x, y, w, h = cv2.boundingRect(contour)\n",
    "    cv2.rectangle(img, (x, y), (x + w, y + h), (0, 255, 0), 2)\n",
    "\n",
    "# Mostrar la imagen con los rectángulos\n",
    "cv2.imshow('Texto detectado', img)\n",
    "cv2.waitKey(0)\n",
    "cv2.destroyAllWindows()"
   ]
  },
  {
   "cell_type": "code",
   "execution_count": 15,
   "metadata": {},
   "outputs": [
    {
     "name": "stdout",
     "output_type": "stream",
     "text": [
      "[0, 20, 20, 20, 20, 152, 33, 33, 33, 33, 30, 30, 30, 26, 30, 80, 80, 80, 80, 133, 133, 173, 133, 133, 173, 134, 134, 173, 134, 134, 173, 134, 134, 173, 265, 265, 265, 265, 356, 240, 240, 240, 240, 239, 239, 239, 239, 239, 239, 239, 239, 239, 239, 239, 239, 297, 297, 297, 297, 297, 297, 297, 297, 297, 297, 297, 297, 297, 460, 460, 460, 460, 463, 463, 463, 463, 463, 463, 463, 463, 463, 463, 463, 463, 463, 463, 521, 521, 521, 521, 521, 521, 521, 521, 521, 521, 521, 521, 521, 582, 582, 582, 582]\n"
     ]
    }
   ],
   "source": [
    "import cv2\n",
    "from pytesseract import pytesseract\n",
    "from pytesseract import Output\n",
    "\n",
    "pytesseract.tesseract_cmd = \"C:\\\\Program Files\\\\Tesseract-OCR\\\\tesseract.exe\"\n",
    "\n",
    "img = cv2.imread('combat_rats.jpg')\n",
    "#img = cv2.cvtColor(img, cv2.COLOR_BGR2GRAY)\n",
    "img = cv2.resize(img,(0,0),fx=2,fy=2)\n",
    "\n",
    "image_data = pytesseract.image_to_data(img, output_type=Output.DICT)\n",
    "\n",
    "print(image_data['left'])\n",
    "\n",
    "# Printing each word\n",
    "# for word in image_data['text']:\n",
    "# \tprint(word)\n",
    "\n",
    "for i, word in enumerate(image_data['text']):\n",
    "\tif word != '':\n",
    "\t\tx,y,w,h = image_data['left'][i],image_data['top'][i],image_data['width'][i],image_data['height'][i]\n",
    "\t\tcv2.rectangle(img,(x,y),(x+w,y+h),(0,255,0),1)\n",
    "\t\tcv2.putText(img,word,(x,y-16),cv2.FONT_HERSHEY_COMPLEX,1,(0,0,255),1)\n",
    "\n",
    "cv2.imshow(\"window\", img)\n",
    "cv2.waitKey(0)\n",
    "cv2.destroyAllWindows()"
   ]
  }
 ],
 "metadata": {
  "kernelspec": {
   "display_name": "AI_eveonline",
   "language": "python",
   "name": "python3"
  },
  "language_info": {
   "codemirror_mode": {
    "name": "ipython",
    "version": 3
   },
   "file_extension": ".py",
   "mimetype": "text/x-python",
   "name": "python",
   "nbconvert_exporter": "python",
   "pygments_lexer": "ipython3",
   "version": "3.8.18"
  }
 },
 "nbformat": 4,
 "nbformat_minor": 2
}
