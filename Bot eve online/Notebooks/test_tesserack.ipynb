{
 "cells": [
  {
   "cell_type": "code",
   "execution_count": 1,
   "metadata": {},
   "outputs": [],
   "source": [
    "import pytesseract\n",
    "from PIL import Image\n",
    "import os"
   ]
  },
  {
   "cell_type": "code",
   "execution_count": 7,
   "metadata": {},
   "outputs": [],
   "source": [
    "pytesseract.pytesseract.tesseract_cmd= r\"C:\\\\Program Files\\\\Tesseract-OCR\\\\tesseract.exe\""
   ]
  },
  {
   "cell_type": "code",
   "execution_count": 14,
   "metadata": {},
   "outputs": [
    {
     "name": "stdout",
     "output_type": "stream",
     "text": [
      "General Mining PVE VIAJE WRECK guarda\n",
      "\n"
     ]
    }
   ],
   "source": [
    "# Abre la imagen que contiene texto\n",
    "image_path = 'columns.jpg'  # Reemplaza con la ruta de tu imagen\n",
    "img = Image.open(image_path)\n",
    "\n",
    "# Utiliza pytesseract para realizar el OCR en la imagen\n",
    "text = pytesseract.image_to_string(img)\n",
    "\n",
    "# Imprime el texto extraído\n",
    "print(text)"
   ]
  },
  {
   "cell_type": "code",
   "execution_count": 1,
   "metadata": {},
   "outputs": [],
   "source": [
    "import cv2\n",
    "\n",
    "# Cargar la imagen\n",
    "image_path = 'text_plus.jpg'  # Reemplaza con la ruta de tu imagen\n",
    "img = cv2.imread(image_path)\n",
    "\n",
    "# Convertir la imagen a escala de grises\n",
    "gray = cv2.cvtColor(img, cv2.COLOR_BGR2GRAY)\n",
    "\n",
    "# Aplicar umbralización (binarización) para destacar el texto\n",
    "_, thresholded = cv2.threshold(gray, 0, 255, cv2.THRESH_BINARY + cv2.THRESH_OTSU)\n",
    "\n",
    "# Encontrar contornos en la imagen binarizada\n",
    "contours, _ = cv2.findContours(thresholded, cv2.RETR_EXTERNAL, cv2.CHAIN_APPROX_SIMPLE)\n",
    "\n",
    "# Iterar a través de los contornos y dibujar rectángulos alrededor del texto detectado\n",
    "for contour in contours:\n",
    "    x, y, w, h = cv2.boundingRect(contour)\n",
    "    cv2.rectangle(img, (x, y), (x + w, y + h), (0, 255, 0), 2)\n",
    "\n",
    "# Mostrar la imagen con los rectángulos\n",
    "cv2.imshow('Texto detectado', img)\n",
    "cv2.waitKey(0)\n",
    "cv2.destroyAllWindows()"
   ]
  },
  {
   "cell_type": "code",
   "execution_count": 7,
   "metadata": {},
   "outputs": [
    {
     "name": "stdout",
     "output_type": "stream",
     "text": [
      "[0, 0, 0, 0, 0, 0, 0, 375, 375, 375, 375, 4, 4, 4, 4, 39, 66, 84, 97, 138, 162, 247, 437, 437, 437, 437, 304, 304, 304, 304, 4, 4, 4, 4, 617, 4, 4, 4, 4, 17, 17, 17, 17, 53, 53, 53, 53, 493, 493, 493, 493, 640, 640, 640, 640, 43, 43, 43, 43, 43, 43, 43, 43, 43, 43, 43, 43, 43, 43, 43, 43, 43, 43, 43, 43, 3, 7, 275, 275, 578, 8, 8, 278, 689, 43, 43, 70, 89, 162, 190, 238, 277, 305, 315, 656, 89, 89, 151, 603, 96, 96, 133, 179, 128, 128, 305, 148, 148, 180, 219, 70, 70, 89, 219, 89, 89, 109, 817, 66, 62, 89, 129, 34, 34, 384, 8, 8, 299, 425, 814, 10, 10, 814, 46, 46, 66, 84, 124, 166, 169, 269, 349, 11, 11, 70, 181, 255, 335, 416, 93, 72, 93, 131, 253, 269, 349, 435, 8, 8, 206, 276, 381, 437, 64, 64, 85, 115, 153, 180, 253, 327, 371, 426, 7, 7, 167, 255, 303, 333, 419, 3, 3, 171, 251, 282, 418, 10, 10, 176, 256, 336, 416, 809, 196, 196, 276, 367, 446, 177, 177, 259, 343, 429, 810, 51, 51, 67, 87, 135, 170, 192, 234, 302, 324, 350, 340, 340, 399, 444, 534, 728, 75, 75, 155, 226, 463, 558, 608, 45, 45, 123, 154, 225, 277, 483, 45, 45, 86, 123, 225, 277, 483, 45, 45, 86, 123, 225, 277, 321, 483, 643, 719, 796, 45, 45, 86, 123, 263, 483, 720, 45, 45, 123, 225, 277, 321, 483, 686, 686, 757, 9, 9, 611, 9, 9, 79, 79, 79, 79, 99, 151, 113, 113, 113, 113, 551, 0, 0, 0, 0, 4, 4, 4, 4, 12, 12, 12, 12, 644, 644, 644, 644, 866, 866, 866, 866, 1200, 1200, 1200, 1200, 1207, 1207, 1207, 1207, 1224, 1269, 1285, 1313, 1209, 1209, 1223, 1282, 1209, 1209, 1242, 1273, 1209, 1209, 1225, 1241, 1274, 1207, 1207, 1207, 1203, 1224, 1269, 1285, 1325, 1208, 1208, 1208, 1208, 1228, 1417, 1417, 1417, 1417, 1501, 1501, 1872, 1872, 1501, 1501, 1567, 1626, 1669, 1721, 1782, 1853, 1872, 1896, 1531, 1531, 1588, 1611, 1722, 1551, 1551, 1551, 1581, 1610, 1723, 1777, 1825, 1551, 1551, 1551, 1581, 1610, 1723, 1777, 1825, 1551, 1551, 1551, 1581, 1611, 1673, 1686, 1699, 1723, 1766, 1813, 1551, 1551, 1551, 1581, 1611, 1673, 1688, 1723, 1766, 1813, 1551, 1551, 1551, 1581, 1611, 1673, 1688, 1723, 1774, 1831, 1505, 1505, 1505, 1505, 1594, 1594, 1594, 1594, 1593, 1593, 1593, 1593, 1511, 1511, 1511, 1507, 1542, 1579, 1538, 1538, 1558, 1558, 1581, 1611, 1558, 1558, 1581, 1611, 1538, 1538, 1589, 1611, 1673, 1541, 1541, 1578, 1611, 1673, 1571, 1571, 1571, 1611, 1673, 1723, 1723, 1723, 1723, 1777, 1825, 1723, 1723, 1777, 1825, 1723, 1723, 1774, 1819, 1723, 1723, 1766, 1813, 1723, 1723, 1779, 1816, 1631, 1632, 1632, 1632, 1672, 1634, 1634, 1634, 1672, 1711, 1631, 1631, 1631, 1671, 1853, 1653, 1653, 1879, 1879, 1879, 1879]\n"
     ]
    }
   ],
   "source": [
    "import cv2\n",
    "from pytesseract import pytesseract\n",
    "from pytesseract import Output\n",
    "\n",
    "pytesseract.tesseract_cmd = \"C:\\\\Program Files\\\\Tesseract-OCR\\\\tesseract.exe\"\n",
    "\n",
    "img = cv2.imread('complete.jpg')\n",
    "\n",
    "image_data = pytesseract.image_to_data(img, output_type=Output.DICT)\n",
    "\n",
    "print(image_data['left'])\n",
    "\n",
    "# Printing each word\n",
    "# for word in image_data['text']:\n",
    "# \tprint(word)\n",
    "\n",
    "for i, word in enumerate(image_data['text']):\n",
    "\tif word != '':\n",
    "\t\tx,y,w,h = image_data['left'][i],image_data['top'][i],image_data['width'][i],image_data['height'][i]\n",
    "\t\tcv2.rectangle(img,(x,y),(x+w,y+h),(0,255,0),1)\n",
    "\t\tcv2.putText(img,word,(x,y-16),cv2.FONT_HERSHEY_COMPLEX,1,(0,0,255),1)\n",
    "\n",
    "cv2.imshow(\"window\", img)\n",
    "cv2.waitKey(0)\n",
    "cv2.destroyAllWindows()"
   ]
  }
 ],
 "metadata": {
  "kernelspec": {
   "display_name": "AI_eveonline",
   "language": "python",
   "name": "python3"
  },
  "language_info": {
   "codemirror_mode": {
    "name": "ipython",
    "version": 3
   },
   "file_extension": ".py",
   "mimetype": "text/x-python",
   "name": "python",
   "nbconvert_exporter": "python",
   "pygments_lexer": "ipython3",
   "version": "3.8.18"
  }
 },
 "nbformat": 4,
 "nbformat_minor": 2
}
