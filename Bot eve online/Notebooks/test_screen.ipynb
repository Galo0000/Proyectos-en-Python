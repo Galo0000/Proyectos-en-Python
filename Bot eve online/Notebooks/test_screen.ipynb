{
 "cells": [
  {
   "cell_type": "code",
   "execution_count": 1,
   "metadata": {},
   "outputs": [],
   "source": [
    "import numpy as np\n",
    "import win32gui, win32ui, win32con\n",
    "from threading import Thread, Lock\n",
    "from windowcapture import WindowCapture\n",
    "import cv2\n",
    "import os"
   ]
  },
  {
   "cell_type": "code",
   "execution_count": 12,
   "metadata": {},
   "outputs": [],
   "source": [
    "# Cargar la imagen en la que quieres buscar la otra imagen\n",
    "imagen_principal = cv2.imread('Screenshot.jpg')\n",
    "\n",
    "# Cargar la imagen que quieres buscar dentro de la imagen principal\n",
    "imagen_a_buscar = cv2.imread('buscar.jpg')\n",
    "\n",
    "# Buscar la imagen en la imagen principal\n",
    "resultado = cv2.matchTemplate(imagen_principal, imagen_a_buscar, cv2.TM_CCOEFF_NORMED)\n",
    "\n",
    "# Definir un umbral para la confianza de la coincidencia\n",
    "umbral = 0.8\n",
    "\n",
    "# Encontrar las ubicaciones donde la confianza de coincidencia es mayor que el umbral\n",
    "ubicaciones = np.where(resultado >= umbral)\n",
    "\n",
    "# Dibujar un rectángulo verde alrededor de cada ubicación encontrada\n",
    "for punto in zip(*ubicaciones[::-1]):\n",
    "    inicio = punto\n",
    "    fin = (inicio[0] + imagen_a_buscar.shape[1], inicio[1] + imagen_a_buscar.shape[0])\n",
    "    cv2.rectangle(imagen_principal, inicio, fin, (0, 255, 0), 2)\n",
    "\n",
    "# Mostrar la imagen con los rectángulos dibujados\n",
    "cv2.imshow('Imagen con Rectángulos', imagen_principal)\n",
    "cv2.waitKey(0)\n",
    "cv2.destroyAllWindows()"
   ]
  },
  {
   "cell_type": "code",
   "execution_count": 9,
   "metadata": {},
   "outputs": [
    {
     "ename": "error",
     "evalue": "CreateCompatibleDC failed",
     "output_type": "error",
     "traceback": [
      "\u001b[1;31m---------------------------------------------------------------------------\u001b[0m",
      "\u001b[1;31merror\u001b[0m                                     Traceback (most recent call last)",
      "Cell \u001b[1;32mIn[9], line 5\u001b[0m\n\u001b[0;32m      2\u001b[0m buscar \u001b[38;5;241m=\u001b[39m cv2\u001b[38;5;241m.\u001b[39mimread(\u001b[38;5;124m'\u001b[39m\u001b[38;5;124mbuscar.jpg\u001b[39m\u001b[38;5;124m'\u001b[39m)\n\u001b[0;32m      3\u001b[0m \u001b[38;5;28;01mwhile\u001b[39;00m(\u001b[38;5;28;01mTrue\u001b[39;00m):\n\u001b[1;32m----> 5\u001b[0m     screenshot \u001b[38;5;241m=\u001b[39m \u001b[43mwincap\u001b[49m\u001b[38;5;241;43m.\u001b[39;49m\u001b[43mget_screenshot\u001b[49m\u001b[43m(\u001b[49m\u001b[43m)\u001b[49m\n\u001b[0;32m      7\u001b[0m     \u001b[38;5;66;03m# Buscar la imagen en la imagen principal\u001b[39;00m\n\u001b[0;32m      8\u001b[0m     resultado \u001b[38;5;241m=\u001b[39m cv2\u001b[38;5;241m.\u001b[39mmatchTemplate(screenshot, buscar, cv2\u001b[38;5;241m.\u001b[39mTM_CCOEFF_NORMED)\n",
      "File \u001b[1;32mh:\\Repositorios\\Proyectos-en-Python\\Bot eve online\\Notebooks\\windowcapture.py:48\u001b[0m, in \u001b[0;36mWindowCapture.get_screenshot\u001b[1;34m(self)\u001b[0m\n\u001b[0;32m     46\u001b[0m cDC \u001b[38;5;241m=\u001b[39m dcObj\u001b[38;5;241m.\u001b[39mCreateCompatibleDC()\n\u001b[0;32m     47\u001b[0m dataBitMap \u001b[38;5;241m=\u001b[39m win32ui\u001b[38;5;241m.\u001b[39mCreateBitmap()\n\u001b[1;32m---> 48\u001b[0m \u001b[43mdataBitMap\u001b[49m\u001b[38;5;241;43m.\u001b[39;49m\u001b[43mCreateCompatibleBitmap\u001b[49m\u001b[43m(\u001b[49m\u001b[43mdcObj\u001b[49m\u001b[43m,\u001b[49m\u001b[43m \u001b[49m\u001b[38;5;28;43mself\u001b[39;49m\u001b[38;5;241;43m.\u001b[39;49m\u001b[43mw\u001b[49m\u001b[43m,\u001b[49m\u001b[43m \u001b[49m\u001b[38;5;28;43mself\u001b[39;49m\u001b[38;5;241;43m.\u001b[39;49m\u001b[43mh\u001b[49m\u001b[43m)\u001b[49m\n\u001b[0;32m     49\u001b[0m cDC\u001b[38;5;241m.\u001b[39mSelectObject(dataBitMap)\n\u001b[0;32m     50\u001b[0m cDC\u001b[38;5;241m.\u001b[39mBitBlt((\u001b[38;5;241m0\u001b[39m, \u001b[38;5;241m0\u001b[39m), (\u001b[38;5;28mself\u001b[39m\u001b[38;5;241m.\u001b[39mw, \u001b[38;5;28mself\u001b[39m\u001b[38;5;241m.\u001b[39mh), dcObj, (\u001b[38;5;28mself\u001b[39m\u001b[38;5;241m.\u001b[39mcropped_x, \u001b[38;5;28mself\u001b[39m\u001b[38;5;241m.\u001b[39mcropped_y), win32con\u001b[38;5;241m.\u001b[39mSRCCOPY)\n",
      "\u001b[1;31merror\u001b[0m: CreateCompatibleDC failed"
     ]
    }
   ],
   "source": [
    "wincap = WindowCapture(\"EVE - Guileo Galo\")\n",
    "buscar = cv2.imread('buscar.jpg')\n",
    "while(True):\n",
    "\n",
    "    screenshot = wincap.get_screenshot()\n",
    "\n",
    "    # Buscar la imagen en la imagen principal\n",
    "    resultado = cv2.matchTemplate(screenshot, buscar, cv2.TM_CCOEFF_NORMED)\n",
    "\n",
    "    # Definir un umbral para la confianza de la coincidencia\n",
    "    umbral = 0.8\n",
    "\n",
    "    # Encontrar las ubicaciones donde la confianza de coincidencia es mayor que el umbral\n",
    "    ubicaciones = np.where(resultado >= umbral)\n",
    "\n",
    "    # Dibujar un rectángulo verde alrededor de cada ubicación encontrada\n",
    "    for punto in zip(*ubicaciones[::-1]):\n",
    "        inicio = punto\n",
    "        fin = (inicio[0] + imagen_a_buscar.shape[1], inicio[1] + imagen_a_buscar.shape[0])\n",
    "        cv2.rectangle(imagen_principal, inicio, fin, (0, 255, 0), 2)\n",
    "\n",
    "\n",
    "    cv2.imshow('eveonline', screenshot)\n",
    "    if cv2.waitKey(1) == ord('q'):\n",
    "        cv2.destroyAllWindows()\n",
    "        break"
   ]
  },
  {
   "cell_type": "code",
   "execution_count": 4,
   "metadata": {},
   "outputs": [],
   "source": [
    "def list_window_names():\n",
    "    def winEnumHandler(hwnd,ctx):\n",
    "        if win32gui.IsWindowVisible(hwnd):\n",
    "            print(hex(hwnd),win32gui.GetWindowText(hwnd))\n",
    "    win32gui.EnumWindows(winEnumHandler,None)"
   ]
  },
  {
   "cell_type": "code",
   "execution_count": 5,
   "metadata": {},
   "outputs": [
    {
     "name": "stdout",
     "output_type": "stream",
     "text": [
      "0x100dc \n",
      "0x130776 test_screen.ipynb - Untitled (Workspace) - Visual Studio Code\n",
      "0x40700 EVE - Guileo Galo\n",
      "0xb0440 conda-script.py: Bloc de notas\n",
      "0x3074e Anaconda Navigator\n",
      "0xd0536 (16) Fast Window Capture - OpenCV Object Detection in Games #4 - YouTube - Brave\n",
      "0x10592 WhatsApp\n",
      "0x1057c WhatsApp\n",
      "0x107a0 GitHub Desktop\n",
      "0x10720 EVE Online Launcher\n",
      "0x705ee Steam\n",
      "0xa0622 Ofertas especiales\n",
      "0x105a4 \n",
      "0x10598 \n",
      "0x30234 Microsoft Text Input Application\n",
      "0xd02e6 Configuración\n",
      "0x20456 Configuración\n",
      "0x101aa \n",
      "0x101a2 \n",
      "0x10188 \n",
      "0x10186 \n",
      "0x702be \n",
      "0x1014c Program Manager\n"
     ]
    }
   ],
   "source": [
    "list_window_names()"
   ]
  },
  {
   "cell_type": "code",
   "execution_count": 7,
   "metadata": {},
   "outputs": [
    {
     "data": {
      "text/plain": [
       "1313234"
      ]
     },
     "execution_count": 7,
     "metadata": {},
     "output_type": "execute_result"
    }
   ],
   "source": [
    "hwnd = win32gui.FindWindow(None,'EVE - Guileo Galo')\n",
    "hwnd"
   ]
  },
  {
   "cell_type": "code",
   "execution_count": 5,
   "metadata": {},
   "outputs": [
    {
     "data": {
      "text/plain": [
       "(-8, -8, 1928, 1048)"
      ]
     },
     "execution_count": 5,
     "metadata": {},
     "output_type": "execute_result"
    }
   ],
   "source": [
    "window_rect = win32gui.GetWindowRect(x)\n",
    "window_rect"
   ]
  },
  {
   "cell_type": "code",
   "execution_count": 6,
   "metadata": {},
   "outputs": [
    {
     "name": "stdout",
     "output_type": "stream",
     "text": [
      " 1936 , 1056\n"
     ]
    }
   ],
   "source": [
    "w = window_rect[2] - window_rect[0]\n",
    "h = window_rect[3] - window_rect[1]\n",
    "print(f' {w} , {h}')"
   ]
  },
  {
   "cell_type": "code",
   "execution_count": 8,
   "metadata": {},
   "outputs": [
    {
     "data": {
      "text/plain": [
       "805380541"
      ]
     },
     "execution_count": 8,
     "metadata": {},
     "output_type": "execute_result"
    }
   ],
   "source": [
    "wDC = win32gui.GetWindowDC(hwnd)\n",
    "wDC"
   ]
  },
  {
   "cell_type": "code",
   "execution_count": 9,
   "metadata": {},
   "outputs": [
    {
     "data": {
      "text/plain": [
       "object 'PyCDC' - assoc is 0000026E3A9BFF58, vi=<None>"
      ]
     },
     "execution_count": 9,
     "metadata": {},
     "output_type": "execute_result"
    }
   ],
   "source": [
    "dcObj = win32ui.CreateDCFromHandle(wDC)\n",
    "dcObj"
   ]
  },
  {
   "cell_type": "code",
   "execution_count": 10,
   "metadata": {},
   "outputs": [
    {
     "data": {
      "text/plain": [
       "object 'PyCDC' - assoc is 0000026E3A9BFF78, vi=<None>"
      ]
     },
     "execution_count": 10,
     "metadata": {},
     "output_type": "execute_result"
    }
   ],
   "source": [
    "cDC = dcObj.CreateCompatibleDC()\n",
    "cDC"
   ]
  },
  {
   "cell_type": "code",
   "execution_count": 11,
   "metadata": {},
   "outputs": [
    {
     "data": {
      "text/plain": [
       "object 'PyCBitmap' - assoc is 0000026E3713B910, vi=<None>"
      ]
     },
     "execution_count": 11,
     "metadata": {},
     "output_type": "execute_result"
    }
   ],
   "source": [
    "dataBitMap = win32ui.CreateBitmap()\n",
    "dataBitMap"
   ]
  },
  {
   "cell_type": "code",
   "execution_count": 13,
   "metadata": {},
   "outputs": [],
   "source": [
    "dataBitMap.CreateCompatibleBitmap(dcObj, w, h)"
   ]
  },
  {
   "cell_type": "code",
   "execution_count": 14,
   "metadata": {},
   "outputs": [
    {
     "data": {
      "text/plain": [
       "object 'PyCBitmap' - assoc is 0000026E3A7ACBB8, vi=<None>"
      ]
     },
     "execution_count": 14,
     "metadata": {},
     "output_type": "execute_result"
    }
   ],
   "source": [
    "cDC.SelectObject(dataBitMap)"
   ]
  },
  {
   "cell_type": "markdown",
   "metadata": {},
   "source": [
    "***"
   ]
  },
  {
   "cell_type": "code",
   "execution_count": 7,
   "metadata": {},
   "outputs": [
    {
     "name": "stdout",
     "output_type": "stream",
     "text": [
      "FPS: 26.16\n",
      "FPS: 27.31\n",
      "FPS: 28.60\n",
      "FPS: 26.36\n",
      "FPS: 23.71\n",
      "FPS: 24.60\n",
      "FPS: 22.73\n",
      "FPS: 26.11\n",
      "FPS: 23.48\n",
      "FPS: 25.27\n",
      "FPS: 26.72\n",
      "FPS: 24.16\n"
     ]
    }
   ],
   "source": [
    "import cv2\n",
    "import pygetwindow as gw\n",
    "import pyautogui\n",
    "import numpy as np\n",
    "import time\n",
    "\n",
    "# Nombre de la ventana que deseas capturar (cambia esto al nombre de tu ventana)\n",
    "window_name = \"EVE - Guileo Galo\"\n",
    "\n",
    "# Obtener el objeto de la ventana por su nombre\n",
    "window = gw.getWindowsWithTitle(window_name)[0]\n",
    "\n",
    "# Inicializar el tiempo para el cálculo de FPS\n",
    "start_time = time.time()\n",
    "frame_count = 0\n",
    "\n",
    "while True:\n",
    "    # Capturar la región de la ventana\n",
    "    left, top, width, height = window.left, window.top, window.width, window.height\n",
    "    screenshot = pyautogui.screenshot(region=(left, top, width, height))\n",
    "\n",
    "    # Convertir la captura a una imagen de OpenCV\n",
    "    frame = cv2.cvtColor(np.array(screenshot), cv2.COLOR_RGB2BGR)\n",
    "\n",
    "    # Mostrar la imagen en una ventana de OpenCV\n",
    "    cv2.imshow(\"Captura de ventana\", frame)\n",
    "\n",
    "    frame_count += 1\n",
    "    if cv2.waitKey(1) & 0xFF == ord('q'):\n",
    "        break\n",
    "\n",
    "    # Calcular los FPS\n",
    "    elapsed_time = time.time() - start_time\n",
    "    if elapsed_time >= 1:\n",
    "        fps = frame_count / elapsed_time\n",
    "        print(f\"FPS: {fps:.2f}\")\n",
    "        start_time = time.time()\n",
    "        frame_count = 0\n",
    "\n",
    "cv2.destroyAllWindows()\n",
    "\n"
   ]
  },
  {
   "cell_type": "markdown",
   "metadata": {},
   "source": [
    "***"
   ]
  },
  {
   "cell_type": "code",
   "execution_count": 8,
   "metadata": {},
   "outputs": [],
   "source": [
    "wincap = WindowCapture('EVE - Guileo Galo')"
   ]
  },
  {
   "cell_type": "code",
   "execution_count": 16,
   "metadata": {},
   "outputs": [],
   "source": [
    "import cv2\n",
    "import numpy as np\n",
    "import mss\n",
    "\n",
    "# Crear el objeto MSS\n",
    "with mss.mss() as sct:\n",
    "    # Obtener la resolución de la pantalla\n",
    "    screen_width, screen_height = sct.monitors[1][\"width\"], sct.monitors[1][\"height\"]\n",
    "\n",
    "    # Crear la ventana de visualización\n",
    "    cv2.namedWindow(\"Captura de pantalla\")\n",
    "\n",
    "    while True:\n",
    "        # Capturar la pantalla completa\n",
    "        screenshot = sct.grab(sct.monitors[1])\n",
    "\n",
    "        # Convertir la captura de pantalla a una imagen OpenCV\n",
    "        screenshot_np = np.array(screenshot)\n",
    "        screenshot_cv = cv2.cvtColor(screenshot_np, cv2.COLOR_BGR2RGB)\n",
    "\n",
    "        # Mostrar la captura de pantalla en tiempo real\n",
    "        cv2.imshow(\"Captura de pantalla\", screenshot_cv)\n",
    "\n",
    "        # Esperar 10 milisegundos entre fotogramas y verificar si se presiona la tecla 'q' para salir\n",
    "        key = cv2.waitKey(10)\n",
    "        if key == ord('q'):\n",
    "            break\n",
    "\n",
    "# Liberar la ventana de visualización\n",
    "cv2.destroyAllWindows()\n"
   ]
  }
 ],
 "metadata": {
  "kernelspec": {
   "display_name": "ia_eveonline",
   "language": "python",
   "name": "python3"
  },
  "language_info": {
   "codemirror_mode": {
    "name": "ipython",
    "version": 3
   },
   "file_extension": ".py",
   "mimetype": "text/x-python",
   "name": "python",
   "nbconvert_exporter": "python",
   "pygments_lexer": "ipython3",
   "version": "3.8.18"
  }
 },
 "nbformat": 4,
 "nbformat_minor": 2
}
