{
 "cells": [
  {
   "cell_type": "code",
   "execution_count": 4,
   "metadata": {},
   "outputs": [],
   "source": [
    "import numpy as np\n",
    "import win32gui, win32ui, win32con\n",
    "from threading import Thread, Lock\n",
    "from windowcapture import WindowCapture\n",
    "import cv2\n",
    "import os"
   ]
  },
  {
   "cell_type": "code",
   "execution_count": 7,
   "metadata": {},
   "outputs": [],
   "source": [
    "# Cargar la imagen en la que quieres buscar la otra imagen\n",
    "imagen_principal = cv2.imread('Screenshot.jpg')\n",
    "\n",
    "# Cargar la imagen que quieres buscar dentro de la imagen principal\n",
    "imagen_a_buscar = cv2.imread('buscar.jpg')\n",
    "\n",
    "# Buscar la imagen en la imagen principal\n",
    "resultado = cv2.matchTemplate(imagen_principal, imagen_a_buscar, cv2.TM_CCOEFF_NORMED)\n",
    "\n",
    "# Definir un umbral para la confianza de la coincidencia\n",
    "umbral = 0.8\n",
    "\n",
    "# Encontrar las ubicaciones donde la confianza de coincidencia es mayor que el umbral\n",
    "ubicaciones = np.where(resultado >= umbral)\n",
    "\n",
    "# Dibujar un rectángulo verde alrededor de cada ubicación encontrada\n",
    "for punto in zip(*ubicaciones[::-1]):\n",
    "    inicio = punto\n",
    "    fin = (inicio[0] + imagen_a_buscar.shape[1], inicio[1] + imagen_a_buscar.shape[0])\n",
    "    cv2.rectangle(imagen_principal, inicio, fin, (0, 255, 0), 2)\n",
    "\n",
    "# Mostrar la imagen con los rectángulos dibujados\n",
    "cv2.imshow('Imagen con Rectángulos', imagen_principal)\n",
    "cv2.waitKey(0)\n",
    "cv2.destroyAllWindows()"
   ]
  },
  {
   "cell_type": "code",
   "execution_count": 8,
   "metadata": {},
   "outputs": [
    {
     "name": "stdout",
     "output_type": "stream",
     "text": [
      "Encontrado\n",
      "Encontrado\n",
      "Encontrado\n",
      "Encontrado\n",
      "Encontrado\n",
      "Encontrado\n",
      "Encontrado\n",
      "Encontrado\n",
      "Encontrado\n",
      "Encontrado\n",
      "Encontrado\n",
      "Encontrado\n",
      "Encontrado\n",
      "Encontrado\n",
      "Encontrado\n",
      "Encontrado\n",
      "Encontrado\n",
      "Encontrado\n",
      "Encontrado\n",
      "Encontrado\n",
      "Encontrado\n",
      "Encontrado\n",
      "Encontrado\n",
      "Encontrado\n",
      "Encontrado\n",
      "Encontrado\n",
      "Encontrado\n",
      "Encontrado\n",
      "Encontrado\n",
      "Encontrado\n",
      "Encontrado\n",
      "Encontrado\n",
      "Encontrado\n",
      "Encontrado\n",
      "Encontrado\n",
      "Encontrado\n",
      "Encontrado\n",
      "Encontrado\n",
      "Encontrado\n",
      "Encontrado\n",
      "Encontrado\n",
      "Encontrado\n",
      "Encontrado\n",
      "Encontrado\n",
      "Encontrado\n",
      "Encontrado\n",
      "Encontrado\n",
      "Encontrado\n",
      "Encontrado\n",
      "Encontrado\n",
      "Encontrado\n",
      "Encontrado\n",
      "Encontrado\n",
      "Encontrado\n",
      "Encontrado\n",
      "Encontrado\n",
      "Encontrado\n",
      "Encontrado\n",
      "Encontrado\n",
      "Encontrado\n",
      "Encontrado\n",
      "Encontrado\n",
      "Encontrado\n",
      "Encontrado\n",
      "Encontrado\n",
      "Encontrado\n",
      "Encontrado\n",
      "Encontrado\n",
      "Encontrado\n",
      "Encontrado\n",
      "Encontrado\n",
      "Encontrado\n",
      "Encontrado\n",
      "Encontrado\n",
      "Encontrado\n",
      "Encontrado\n",
      "Encontrado\n",
      "Encontrado\n",
      "Encontrado\n",
      "Encontrado\n",
      "Encontrado\n",
      "Encontrado\n",
      "Encontrado\n",
      "Encontrado\n",
      "Encontrado\n",
      "Encontrado\n",
      "Encontrado\n",
      "Encontrado\n",
      "Encontrado\n",
      "Encontrado\n",
      "Encontrado\n",
      "Encontrado\n",
      "Encontrado\n",
      "Encontrado\n",
      "Encontrado\n",
      "Encontrado\n",
      "Encontrado\n",
      "Encontrado\n",
      "Encontrado\n",
      "Encontrado\n",
      "Encontrado\n",
      "Encontrado\n",
      "Encontrado\n",
      "Encontrado\n",
      "Encontrado\n",
      "Encontrado\n",
      "Encontrado\n",
      "Encontrado\n",
      "Encontrado\n",
      "Encontrado\n",
      "Encontrado\n",
      "Encontrado\n",
      "Encontrado\n",
      "Encontrado\n",
      "Encontrado\n",
      "Encontrado\n"
     ]
    }
   ],
   "source": [
    "wincap = WindowCapture()\n",
    "buscar = cv2.imread('buscar.jpg')\n",
    "while(True):\n",
    "\n",
    "    screenshot = wincap.get_screenshot()\n",
    "\n",
    "    # Buscar la imagen en la imagen principal\n",
    "    resultado = cv2.matchTemplate(screenshot, buscar, cv2.TM_CCOEFF_NORMED)\n",
    "\n",
    "    # Definir un umbral para la confianza de la coincidencia\n",
    "    umbral = 0.8\n",
    "\n",
    "    # Encontrar las ubicaciones donde la confianza de coincidencia es mayor que el umbral\n",
    "    ubicaciones = np.where(resultado >= umbral)\n",
    "\n",
    "    # Dibujar un rectángulo verde alrededor de cada ubicación encontrada\n",
    "    for punto in zip(*ubicaciones[::-1]):\n",
    "        inicio = punto\n",
    "        fin = (inicio[0] + imagen_a_buscar.shape[1], inicio[1] + imagen_a_buscar.shape[0])\n",
    "        cv2.rectangle(imagen_principal, inicio, fin, (0, 255, 0), 2)\n",
    "\n",
    "\n",
    "    cv2.imshow('eveonline', screenshot)\n",
    "    if cv2.waitKey(1) == ord('q'):\n",
    "        cv2.destroyAllWindows()\n",
    "        break"
   ]
  },
  {
   "cell_type": "code",
   "execution_count": 2,
   "metadata": {},
   "outputs": [],
   "source": [
    "def list_window_names():\n",
    "    def winEnumHandler(hwnd,ctx):\n",
    "        if win32gui.IsWindowVisible(hwnd):\n",
    "            print(hex(hwnd),win32gui.GetWindowText(hwnd))\n",
    "    win32gui.EnumWindows(winEnumHandler,None)"
   ]
  },
  {
   "cell_type": "code",
   "execution_count": 5,
   "metadata": {},
   "outputs": [
    {
     "name": "stdout",
     "output_type": "stream",
     "text": [
      "0xb0a28 \n",
      "0x10100 \n",
      "0xa0ca6 test_screen.ipynb - Untitled (Workspace) - Visual Studio Code\n",
      "0x204da (48) Nueve días para el balotaje: el análisis de todo lo que pasó esta semana - YouTube - Brave\n",
      "0x450a40 EVE - Guileo Galo\n",
      "0x130992 GitHub Desktop\n",
      "0x50928 EVE Launcher\n",
      "0x28095e \n",
      "0x70962 Instalar\n",
      "0x10d96 WhatsApp\n",
      "0xf05de Anaconda Navigator\n",
      "0x4a0d50 WhatsApp\n",
      "0x408c6 Virtual Desktop Streamer\n",
      "0x30dba \n",
      "0x406f0 Steam\n",
      "0x5b0880 Microsoft Text Input Application\n",
      "0x4069a Configuración\n",
      "0x702ea Configuración\n",
      "0x101c2 \n",
      "0x101ba \n",
      "0x1019c \n",
      "0x1019a \n",
      "0x408ca \n",
      "0x4039a \n",
      "0xb052a \n",
      "0x810d30 \n",
      "0x1016c Program Manager\n"
     ]
    }
   ],
   "source": [
    "list_window_names()"
   ]
  },
  {
   "cell_type": "code",
   "execution_count": 7,
   "metadata": {},
   "outputs": [
    {
     "data": {
      "text/plain": [
       "1313234"
      ]
     },
     "execution_count": 7,
     "metadata": {},
     "output_type": "execute_result"
    }
   ],
   "source": [
    "hwnd = win32gui.FindWindow(None,'EVE - Guileo Galo')\n",
    "hwnd"
   ]
  },
  {
   "cell_type": "code",
   "execution_count": 5,
   "metadata": {},
   "outputs": [
    {
     "data": {
      "text/plain": [
       "(-8, -8, 1928, 1048)"
      ]
     },
     "execution_count": 5,
     "metadata": {},
     "output_type": "execute_result"
    }
   ],
   "source": [
    "window_rect = win32gui.GetWindowRect(x)\n",
    "window_rect"
   ]
  },
  {
   "cell_type": "code",
   "execution_count": 6,
   "metadata": {},
   "outputs": [
    {
     "name": "stdout",
     "output_type": "stream",
     "text": [
      " 1936 , 1056\n"
     ]
    }
   ],
   "source": [
    "w = window_rect[2] - window_rect[0]\n",
    "h = window_rect[3] - window_rect[1]\n",
    "print(f' {w} , {h}')"
   ]
  },
  {
   "cell_type": "code",
   "execution_count": 8,
   "metadata": {},
   "outputs": [
    {
     "data": {
      "text/plain": [
       "805380541"
      ]
     },
     "execution_count": 8,
     "metadata": {},
     "output_type": "execute_result"
    }
   ],
   "source": [
    "wDC = win32gui.GetWindowDC(hwnd)\n",
    "wDC"
   ]
  },
  {
   "cell_type": "code",
   "execution_count": 9,
   "metadata": {},
   "outputs": [
    {
     "data": {
      "text/plain": [
       "object 'PyCDC' - assoc is 0000026E3A9BFF58, vi=<None>"
      ]
     },
     "execution_count": 9,
     "metadata": {},
     "output_type": "execute_result"
    }
   ],
   "source": [
    "dcObj = win32ui.CreateDCFromHandle(wDC)\n",
    "dcObj"
   ]
  },
  {
   "cell_type": "code",
   "execution_count": 10,
   "metadata": {},
   "outputs": [
    {
     "data": {
      "text/plain": [
       "object 'PyCDC' - assoc is 0000026E3A9BFF78, vi=<None>"
      ]
     },
     "execution_count": 10,
     "metadata": {},
     "output_type": "execute_result"
    }
   ],
   "source": [
    "cDC = dcObj.CreateCompatibleDC()\n",
    "cDC"
   ]
  },
  {
   "cell_type": "code",
   "execution_count": 11,
   "metadata": {},
   "outputs": [
    {
     "data": {
      "text/plain": [
       "object 'PyCBitmap' - assoc is 0000026E3713B910, vi=<None>"
      ]
     },
     "execution_count": 11,
     "metadata": {},
     "output_type": "execute_result"
    }
   ],
   "source": [
    "dataBitMap = win32ui.CreateBitmap()\n",
    "dataBitMap"
   ]
  },
  {
   "cell_type": "code",
   "execution_count": 13,
   "metadata": {},
   "outputs": [],
   "source": [
    "dataBitMap.CreateCompatibleBitmap(dcObj, w, h)"
   ]
  },
  {
   "cell_type": "code",
   "execution_count": 14,
   "metadata": {},
   "outputs": [
    {
     "data": {
      "text/plain": [
       "object 'PyCBitmap' - assoc is 0000026E3A7ACBB8, vi=<None>"
      ]
     },
     "execution_count": 14,
     "metadata": {},
     "output_type": "execute_result"
    }
   ],
   "source": [
    "cDC.SelectObject(dataBitMap)"
   ]
  },
  {
   "cell_type": "markdown",
   "metadata": {},
   "source": [
    "***"
   ]
  },
  {
   "cell_type": "code",
   "execution_count": 1,
   "metadata": {},
   "outputs": [
    {
     "name": "stdout",
     "output_type": "stream",
     "text": [
      "FPS: 19.04\n",
      "FPS: 19.98\n",
      "FPS: 19.67\n",
      "FPS: 19.86\n",
      "FPS: 19.14\n",
      "FPS: 19.64\n",
      "FPS: 20.41\n",
      "FPS: 19.70\n",
      "FPS: 19.86\n",
      "FPS: 19.44\n",
      "FPS: 19.55\n",
      "FPS: 18.57\n",
      "FPS: 19.96\n",
      "FPS: 20.41\n",
      "FPS: 20.37\n",
      "FPS: 23.58\n",
      "FPS: 26.39\n",
      "FPS: 26.63\n"
     ]
    }
   ],
   "source": [
    "import cv2\n",
    "import pygetwindow as gw\n",
    "import pyautogui\n",
    "import numpy as np\n",
    "import time\n",
    "\n",
    "# Nombre de la ventana que deseas capturar (cambia esto al nombre de tu ventana)\n",
    "window_name = \"EVE - Guileo Galo\"\n",
    "\n",
    "# Obtener el objeto de la ventana por su nombre\n",
    "window = gw.getWindowsWithTitle(window_name)[0]\n",
    "\n",
    "# Inicializar el tiempo para el cálculo de FPS\n",
    "start_time = time.time()\n",
    "frame_count = 0\n",
    "\n",
    "while True:\n",
    "    # Capturar la región de la ventana\n",
    "    left, top, width, height = window.left, window.top, window.width, window.height\n",
    "    screenshot = pyautogui.screenshot(region=(left, top, width, height))\n",
    "\n",
    "    # Convertir la captura a una imagen de OpenCV\n",
    "    frame = cv2.cvtColor(np.array(screenshot), cv2.COLOR_RGB2BGR)\n",
    "\n",
    "    # Mostrar la imagen en una ventana de OpenCV\n",
    "    cv2.imshow(\"Captura de ventana\", frame)\n",
    "\n",
    "    frame_count += 1\n",
    "    if cv2.waitKey(1) & 0xFF == ord('q'):\n",
    "        break\n",
    "\n",
    "    # Calcular los FPS\n",
    "    elapsed_time = time.time() - start_time\n",
    "    if elapsed_time >= 1:\n",
    "        fps = frame_count / elapsed_time\n",
    "        print(f\"FPS: {fps:.2f}\")\n",
    "        start_time = time.time()\n",
    "        frame_count = 0\n",
    "\n",
    "cv2.destroyAllWindows()\n",
    "\n"
   ]
  },
  {
   "cell_type": "markdown",
   "metadata": {},
   "source": [
    "***"
   ]
  },
  {
   "cell_type": "code",
   "execution_count": 5,
   "metadata": {},
   "outputs": [
    {
     "ename": "Exception",
     "evalue": "Window not found: EVE - Guileo Galo",
     "output_type": "error",
     "traceback": [
      "\u001b[1;31m---------------------------------------------------------------------------\u001b[0m",
      "\u001b[1;31mException\u001b[0m                                 Traceback (most recent call last)",
      "\u001b[1;32mh:\\Repositorios\\Proyectos-en-Python\\Bot eve online\\Notebooks\\test_screen.ipynb Cell 18\u001b[0m line \u001b[0;36m1\n\u001b[1;32m----> <a href='vscode-notebook-cell:/h%3A/Repositorios/Proyectos-en-Python/Bot%20eve%20online/Notebooks/test_screen.ipynb#X24sZmlsZQ%3D%3D?line=0'>1</a>\u001b[0m wincap \u001b[39m=\u001b[39m WindowCapture(\u001b[39m'\u001b[39;49m\u001b[39mEVE - Guileo Galo\u001b[39;49m\u001b[39m'\u001b[39;49m)\n",
      "File \u001b[1;32mh:\\Repositorios\\Proyectos-en-Python\\Bot eve online\\Notebooks\\windowcapture.py:33\u001b[0m, in \u001b[0;36mWindowCapture.__init__\u001b[1;34m(self, window_name)\u001b[0m\n\u001b[0;32m     31\u001b[0m     \u001b[39mself\u001b[39m\u001b[39m.\u001b[39mhwnd \u001b[39m=\u001b[39m win32gui\u001b[39m.\u001b[39mFindWindow(\u001b[39mNone\u001b[39;00m, window_name)\n\u001b[0;32m     32\u001b[0m     \u001b[39mif\u001b[39;00m \u001b[39mnot\u001b[39;00m \u001b[39mself\u001b[39m\u001b[39m.\u001b[39mhwnd:\n\u001b[1;32m---> 33\u001b[0m         \u001b[39mraise\u001b[39;00m \u001b[39mException\u001b[39;00m(\u001b[39m'\u001b[39m\u001b[39mWindow not found: \u001b[39m\u001b[39m{}\u001b[39;00m\u001b[39m'\u001b[39m\u001b[39m.\u001b[39mformat(window_name))\n\u001b[0;32m     35\u001b[0m \u001b[39m# get the window size\u001b[39;00m\n\u001b[0;32m     36\u001b[0m window_rect \u001b[39m=\u001b[39m win32gui\u001b[39m.\u001b[39mGetWindowRect(\u001b[39mself\u001b[39m\u001b[39m.\u001b[39mhwnd)\n",
      "\u001b[1;31mException\u001b[0m: Window not found: EVE - Guileo Galo"
     ]
    }
   ],
   "source": [
    "wincap = WindowCapture('EVE - Guileo Galo')"
   ]
  }
 ],
 "metadata": {
  "kernelspec": {
   "display_name": "ia_eveonline",
   "language": "python",
   "name": "python3"
  },
  "language_info": {
   "codemirror_mode": {
    "name": "ipython",
    "version": 3
   },
   "file_extension": ".py",
   "mimetype": "text/x-python",
   "name": "python",
   "nbconvert_exporter": "python",
   "pygments_lexer": "ipython3",
   "version": "3.8.18"
  }
 },
 "nbformat": 4,
 "nbformat_minor": 2
}
