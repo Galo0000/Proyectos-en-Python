{
 "cells": [
  {
   "cell_type": "code",
   "execution_count": 1,
   "metadata": {},
   "outputs": [],
   "source": [
    "import cv2\n",
    "import numpy as np"
   ]
  },
  {
   "cell_type": "code",
   "execution_count": 42,
   "metadata": {},
   "outputs": [],
   "source": [
    "def rect(x1,y1,x2,y2,img,rep,dire,sep):\n",
    "    rectangulos = []\n",
    "    for i in range(rep):\n",
    "        punto1 = (x1, y1)\n",
    "        punto2 = (x2, y2)\n",
    "        rectangulos.append([(x1, y1),(x2, y2)])\n",
    "        cv2.rectangle(img, punto1, punto2, (0, 255, 0), 1)\n",
    "\n",
    "        if dire == 'down':\n",
    "            # Alto de un solo rectángulo\n",
    "            alto_rectangulo = y2 - y1\n",
    "            # Actualiza las coordenadas para el siguiente rectángulo hacia abajo\n",
    "            y1 += alto_rectangulo + sep\n",
    "            y2 += alto_rectangulo + sep\n",
    "        if dire == 'left':\n",
    "            # ancho de un solo rectángulo\n",
    "            ancho_rectangulo = x2 - x1\n",
    "            # Actualiza las coordenadas para el siguiente rectángulo hacia la izquierda\n",
    "            x1 += ancho_rectangulo + sep\n",
    "            x2 += ancho_rectangulo + sep\n",
    "    return rectangulos"
   ]
  },
  {
   "cell_type": "code",
   "execution_count": 59,
   "metadata": {},
   "outputs": [],
   "source": [
    "rectangles = []\n",
    "img = cv2.imread('rejilla1.jpg')\n",
    "\n",
    "# OBJECTS\n",
    "object_x = 1437\n",
    "\n",
    "wobjectsimbol = 23\n",
    "wobjectdist = 73\n",
    "wobjectname = 120\n",
    "wobjecttype = 120\n",
    "\n",
    "y_ini_object = 219\n",
    "y_final_object = 237\n",
    "object_rep = 40\n",
    "\n",
    "xobjectsimbol = object_x + wobjectsimbol\n",
    "xobjectdist = xobjectsimbol + wobjectdist\n",
    "xobjectname = xobjectdist + wobjectname\n",
    "xobjecttype = xobjectname + wobjecttype\n",
    "\n",
    "\n",
    "object_simbol = rect(object_x,y_ini_object,xobjectsimbol,y_final_object,img,object_rep,'down',0)\n",
    "rectangles.append(object_simbol)\n",
    "object_dist = rect(xobjectsimbol,y_ini_object,xobjectdist,y_final_object,img,object_rep,'down',0)\n",
    "rectangles.append(object_dist)\n",
    "object_name = rect(xobjectdist,y_ini_object,xobjectname,y_final_object,img,object_rep,'down',0)\n",
    "rectangles.append(object_name)\n",
    "object_type = rect(xobjectname,y_ini_object,xobjecttype,y_final_object,img,object_rep,'down',0)\n",
    "rectangles.append(object_type)\n",
    "\n",
    "# DRONS\n",
    "dron_x = 1201\n",
    "\n",
    "wdronname = 60\n",
    "wdronstatus = 50\n",
    "wdrondamage = 110\n",
    "\n",
    "y_ini_dron = 920\n",
    "y_final_dron = 940\n",
    "dron_rep = 5\n",
    "\n",
    "xdronname = dron_x + wdronname\n",
    "xdronstatus = xdronname + wdronstatus\n",
    "xdrondamage = xdronstatus + wdrondamage\n",
    "\n",
    "\n",
    "drons_name = rect(dron_x,y_ini_dron,xdronname,y_final_dron,img,dron_rep,'down',2)\n",
    "rectangles.append(drons_name)\n",
    "drons_status = rect(xdronname,y_ini_dron,xdronstatus,y_final_dron,img,dron_rep,'down',2)\n",
    "rectangles.append(drons_status)\n",
    "drons_damage = rect(xdronstatus,y_ini_dron,xdrondamage,y_final_dron,img,dron_rep,'down',2)\n",
    "rectangles.append(drons_damage)\n",
    "\n",
    "# ANOMALIES\n",
    "anomalie_x = 147\n",
    "\n",
    "wanomalieid = 63\n",
    "wanomaliename = 127\n",
    "\n",
    "y_ini_anomalie = 683\n",
    "y_final_anomalie = 703\n",
    "anomalie_rep = 14\n",
    "\n",
    "xanomalieid = anomalie_x + wanomalieid\n",
    "xanomaliename = xanomalieid + wanomaliename\n",
    "\n",
    "anomalies_id = rect(anomalie_x,y_ini_anomalie,xanomalieid,y_final_anomalie,img,anomalie_rep,'down',0)\n",
    "rectangles.append(anomalies_id)\n",
    "anomalies_name = rect(xanomalieid,y_ini_anomalie,xanomaliename,y_final_anomalie,img,anomalie_rep,'down',0)\n",
    "rectangles.append(anomalies_name)\n",
    "\n",
    "# TARGET\n",
    "target_name = rect(1376,122,1463,139,img,6,'left',-195)\n",
    "rectangles.append(target_name)\n",
    "\n",
    "\n",
    "img = cv2.resize(img,(0,0),fx=0.8,fy=0.8)"
   ]
  },
  {
   "cell_type": "code",
   "execution_count": 4,
   "metadata": {},
   "outputs": [],
   "source": [
    "# Función para verificar si un punto está dentro de un rectángulo\n",
    "def punto_en_rectangulo(x, y, rect):\n",
    "    if x > rect[0][0] and x < rect[1][0] and y > rect[0][1] and y < rect[1][1]:\n",
    "        return True\n",
    "    return False"
   ]
  },
  {
   "cell_type": "code",
   "execution_count": 5,
   "metadata": {},
   "outputs": [],
   "source": [
    "# Función de manejo de eventos del ratón\n",
    "def manejar_eventos_raton(event, x, y, flags, param):\n",
    "    if event == cv2.EVENT_LBUTTONDOWN:\n",
    "        # Verificar si el clic está dentro de algún rectángulo\n",
    "        for rect in rectangles:\n",
    "            for pos,a in enumerate(rect):\n",
    "                if punto_en_rectangulo(x, y, a):\n",
    "                    print(f\"Se hizo clic dentro de rats simbol {pos + 1}\")"
   ]
  },
  {
   "cell_type": "code",
   "execution_count": 60,
   "metadata": {},
   "outputs": [],
   "source": [
    "# Muestra la imagen con los rectángulos\n",
    "cv2.imshow('Imagen con Rectángulos', img)\n",
    "\n",
    "cv2.setMouseCallback('Imagen con Rectángulos', manejar_eventos_raton)\n",
    "cv2.waitKey(0)\n",
    "\n",
    "# Cierra la ventana de visualización\n",
    "cv2.destroyAllWindows()"
   ]
  },
  {
   "cell_type": "markdown",
   "metadata": {},
   "source": [
    "***"
   ]
  },
  {
   "cell_type": "markdown",
   "metadata": {},
   "source": [
    "###"
   ]
  },
  {
   "cell_type": "code",
   "execution_count": 9,
   "metadata": {},
   "outputs": [],
   "source": [
    "import cv2\n",
    "import numpy as np\n",
    "\n",
    "# Carga la imagen de la interfaz gráfica\n",
    "imagen = cv2.imread('text_plus.jpg')  # Reemplaza 'ruta_de_la_imagen.png' con tu propia ruta\n",
    "\n",
    "# Convierte la imagen a escala de grises\n",
    "gris = cv2.cvtColor(imagen, cv2.COLOR_BGR2GRAY)\n",
    "\n",
    "# Aplica desenfoque gaussiano y umbral adaptativo\n",
    "blur = cv2.GaussianBlur(gris, (5, 5), 0)\n",
    "umbral_adaptativo = cv2.adaptiveThreshold(blur, 255, cv2.ADAPTIVE_THRESH_GAUSSIAN_C, cv2.THRESH_BINARY_INV, 11, 5)\n",
    "\n",
    "# Encuentra los contornos en la imagen umbralizada\n",
    "contornos, _ = cv2.findContours(umbral_adaptativo, cv2.RETR_EXTERNAL, cv2.CHAIN_APPROX_SIMPLE)\n",
    "\n",
    "# Dibuja los contornos de las celdas detectadas\n",
    "for contorno in contornos:\n",
    "    area = cv2.contourArea(contorno)\n",
    "    if 100 < area < 10000:  # Ajusta estos valores según tu imagen\n",
    "        x, y, w, h = cv2.boundingRect(contorno)\n",
    "        cv2.rectangle(imagen, (x, y), (x + w, y + h), (0, 255, 0), 1)\n",
    "\n",
    "imagen = cv2.resize(imagen,(0,0),fx=2,fy=2)\n",
    "\n",
    "# Muestra la imagen con los contornos de las celdas detectadas\n",
    "cv2.imshow('Celdas Detectadas', umbral_adaptativo)\n",
    "cv2.waitKey(0)\n",
    "cv2.destroyAllWindows()"
   ]
  }
 ],
 "metadata": {
  "kernelspec": {
   "display_name": "AI_eveonline",
   "language": "python",
   "name": "python3"
  },
  "language_info": {
   "codemirror_mode": {
    "name": "ipython",
    "version": 3
   },
   "file_extension": ".py",
   "mimetype": "text/x-python",
   "name": "python",
   "nbconvert_exporter": "python",
   "pygments_lexer": "ipython3",
   "version": "3.8.18"
  }
 },
 "nbformat": 4,
 "nbformat_minor": 2
}
