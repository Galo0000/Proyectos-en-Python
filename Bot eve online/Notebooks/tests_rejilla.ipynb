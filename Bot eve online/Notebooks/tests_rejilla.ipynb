{
 "cells": [
  {
   "cell_type": "code",
   "execution_count": 1,
   "metadata": {},
   "outputs": [],
   "source": [
    "import cv2 as cv\n",
    "import numpy as np\n"
   ]
  },
  {
   "cell_type": "code",
   "execution_count": 52,
   "metadata": {},
   "outputs": [],
   "source": [
    "image = cv.imread('combat_rats.jpg')\n",
    "image = cv.cvtColor(image, cv.COLOR_BGR2GRAY)\n",
    "image = cv.resize(image,(0,0),fx=2,fy=2)\n",
    "cv.imshow('Imagen', image)  # Muestra la imagen en una ventana\n",
    "cv.waitKey(0)  # Espera hasta que se presione una tecla\n",
    "cv.destroyAllWindows()  # Cierra la ventana"
   ]
  },
  {
   "cell_type": "code",
   "execution_count": 18,
   "metadata": {},
   "outputs": [],
   "source": [
    "import cv2\n",
    "\n",
    "# Cargar la imagen\n",
    "imagen = cv2.imread('rejilla1.jpg')\n",
    "\n",
    "# Función para dibujar un rectángulo en la imagen\n",
    "def dibujar_rectangulo(imagen, punto1, punto2):\n",
    "    cv2.rectangle(imagen, punto1, punto2, (0, 255, 0), 1)\n",
    "\n",
    "# Coordenadas iniciales del primer rectángulo\n",
    "x1 = 1436\n",
    "y1 = 237\n",
    "x2 = 1909\n",
    "y2 = 255\n",
    "\n",
    "# Número de replicaciones deseadas hacia abajo\n",
    "replicaciones = 5\n",
    "\n",
    "# Alto de un solo rectángulo\n",
    "alto_rectangulo = y2 - y1\n",
    "\n",
    "# Loop para dibujar y replicar rectángulos hacia abajo\n",
    "for i in range(replicaciones):\n",
    "    punto1 = (x1, y1)\n",
    "    punto2 = (x2, y2)\n",
    "    dibujar_rectangulo(imagen, punto1, punto2)\n",
    "\n",
    "    # Actualiza las coordenadas para el siguiente rectángulo hacia abajo\n",
    "    y1 += alto_rectangulo\n",
    "    y2 += alto_rectangulo\n",
    "\n",
    "# Muestra la imagen con los rectángulos\n",
    "cv2.imshow('Imagen con Rectángulos', imagen)\n",
    "cv2.waitKey(0)\n",
    "\n",
    "# Cierra la ventana de visualización\n",
    "cv2.destroyAllWindows()\n"
   ]
  }
 ],
 "metadata": {
  "kernelspec": {
   "display_name": "AI_eveonline",
   "language": "python",
   "name": "python3"
  },
  "language_info": {
   "codemirror_mode": {
    "name": "ipython",
    "version": 3
   },
   "file_extension": ".py",
   "mimetype": "text/x-python",
   "name": "python",
   "nbconvert_exporter": "python",
   "pygments_lexer": "ipython3",
   "version": "3.8.18"
  }
 },
 "nbformat": 4,
 "nbformat_minor": 2
}
