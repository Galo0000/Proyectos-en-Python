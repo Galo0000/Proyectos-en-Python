{
 "cells": [
  {
   "cell_type": "code",
   "execution_count": 1,
   "metadata": {},
   "outputs": [],
   "source": [
    "import cv2\n",
    "import numpy as np\n"
   ]
  },
  {
   "cell_type": "code",
   "execution_count": 10,
   "metadata": {},
   "outputs": [],
   "source": [
    "image = cv2.imread('combat_rats.jpg')\n",
    "image = cv2.cvtColor(image, cv2.COLOR_BGR2GRAY)\n",
    "image = cv2.resize(image,(0,0),fx=2,fy=2)\n",
    "cv2.imshow('Imagen', image)  # Muestra la imagen en una ventana\n",
    "cv2.waitKey(0)  # Espera hasta que se presione una tecla\n",
    "cv2.destroyAllWindows()  # Cierra la ventana"
   ]
  },
  {
   "cell_type": "code",
   "execution_count": 2,
   "metadata": {},
   "outputs": [],
   "source": [
    "def rect(x1,y1,x2,y2,img,rep,dire,sep):\n",
    "    rectangulos = []\n",
    "    for i in range(rep):\n",
    "        punto1 = (x1, y1)\n",
    "        punto2 = (x2, y2)\n",
    "        rectangulos.append([(x1, y1),(x2, y2)])\n",
    "        cv2.rectangle(img, punto1, punto2, (0, 255, 0), 1)\n",
    "\n",
    "        if dire == 'down':\n",
    "            # Alto de un solo rectángulo\n",
    "            alto_rectangulo = y2 - y1\n",
    "            # Actualiza las coordenadas para el siguiente rectángulo hacia abajo\n",
    "            y1 += alto_rectangulo + sep\n",
    "            y2 += alto_rectangulo + sep\n",
    "        if dire == 'left':\n",
    "            # ancho de un solo rectángulo\n",
    "            ancho_rectangulo = x2 - x1\n",
    "            # Actualiza las coordenadas para el siguiente rectángulo hacia la izquierda\n",
    "            x1 -= ancho_rectangulo - sep\n",
    "            x2 -= ancho_rectangulo - sep\n",
    "    return rectangulos"
   ]
  },
  {
   "cell_type": "code",
   "execution_count": 55,
   "metadata": {},
   "outputs": [],
   "source": [
    "# Cargar la imagen\n",
    "img = cv2.imread('rejilla1.jpg')\n",
    "rats_simbol = rect(1437,219,1460,237,img,40,'down',0)\n",
    "rats_dist = rect(1465,219,1535,237,img,40,'down',0)\n",
    "drons_coor = rect(1201,920,1421,940,img,5,'down',2)\n",
    "tarjets_coor = rect(1362,24,1482,151,img,3,'left',0)\n",
    "anomalies_id = rect(147,683,210,703,img,10,'down',0)\n",
    "anomalies_name = rect(215,683,337,703,img,10,'down',0)"
   ]
  },
  {
   "cell_type": "code",
   "execution_count": 39,
   "metadata": {},
   "outputs": [],
   "source": [
    "# Función para verificar si un punto está dentro de un rectángulo\n",
    "def punto_en_rectangulo(x, y, rect):\n",
    "    if x > rect[0][0] and x < rect[1][0] and y > rect[0][1] and y < rect[1][1]:\n",
    "        return True\n",
    "    return False"
   ]
  },
  {
   "cell_type": "code",
   "execution_count": 42,
   "metadata": {},
   "outputs": [],
   "source": [
    "# Función de manejo de eventos del ratón\n",
    "def manejar_eventos_raton(event, x, y, flags, param):\n",
    "    if event == cv2.EVENT_LBUTTONDOWN:\n",
    "        # Verificar si el clic está dentro de algún rectángulo\n",
    "        for idx, rect in enumerate(rats_simbol):\n",
    "            if punto_en_rectangulo(x, y, rect):\n",
    "                print(f\"Se hizo clic dentro de rats simbol {idx + 1}\")\n",
    "        for idx, rect in enumerate(rats_dist):\n",
    "            if punto_en_rectangulo(x, y, rect):\n",
    "                print(f\"Se hizo clic dentro de rats dist {idx + 1}\")\n",
    "        for idx, rect in enumerate(drons_coor):\n",
    "            if punto_en_rectangulo(x, y, rect):\n",
    "                print(f\"Se hizo clic dentro de drons {idx + 1}\")\n",
    "        for idx, rect in enumerate(tarjets_coor):\n",
    "            if punto_en_rectangulo(x, y, rect):\n",
    "                print(f\"Se hizo clic dentro de tarjets {idx + 1}\")\n",
    "        for idx, rect in enumerate(anomalies_id):\n",
    "            if punto_en_rectangulo(x, y, rect):\n",
    "                print(f\"Se hizo clic dentro de anomalies id {idx + 1}\")\n",
    "        for idx, rect in enumerate(anomalies_name):\n",
    "            if punto_en_rectangulo(x, y, rect):\n",
    "                print(f\"Se hizo clic dentro de anomalies name {idx + 1}\")"
   ]
  },
  {
   "cell_type": "code",
   "execution_count": 56,
   "metadata": {},
   "outputs": [],
   "source": [
    "# Crear una ventana redimensionable\n",
    "cv2.namedWindow(\"Imagen con Rectángulos\", cv2.WINDOW_NORMAL)\n",
    "\n",
    "# Muestra la imagen con los rectángulos\n",
    "cv2.imshow('Imagen con Rectángulos', img)\n",
    "\n",
    "cv2.setMouseCallback('Imagen con Rectángulos', manejar_eventos_raton)\n",
    "\n",
    "# Maximizar la ventana\n",
    "cv2.setWindowProperty(\"Imagen con Rectángulos\", cv2.WND_PROP_FULLSCREEN, cv2.WINDOW_FULLSCREEN)\n",
    "cv2.waitKey(0)\n",
    "\n",
    "# Cierra la ventana de visualización\n",
    "cv2.destroyAllWindows()"
   ]
  }
 ],
 "metadata": {
  "kernelspec": {
   "display_name": "AI_eveonline",
   "language": "python",
   "name": "python3"
  },
  "language_info": {
   "codemirror_mode": {
    "name": "ipython",
    "version": 3
   },
   "file_extension": ".py",
   "mimetype": "text/x-python",
   "name": "python",
   "nbconvert_exporter": "python",
   "pygments_lexer": "ipython3",
   "version": "3.8.18"
  }
 },
 "nbformat": 4,
 "nbformat_minor": 2
}
