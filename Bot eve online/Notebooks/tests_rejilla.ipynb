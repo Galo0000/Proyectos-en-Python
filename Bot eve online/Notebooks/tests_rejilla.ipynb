{
 "cells": [
  {
   "cell_type": "code",
   "execution_count": 1,
   "metadata": {},
   "outputs": [],
   "source": [
    "import cv2\n",
    "import numpy as np"
   ]
  },
  {
   "cell_type": "code",
   "execution_count": 10,
   "metadata": {},
   "outputs": [],
   "source": [
    "image = cv2.imread('combat_rats.jpg')\n",
    "image = cv2.cvtColor(image, cv2.COLOR_BGR2GRAY)\n",
    "image = cv2.resize(image,(0,0),fx=2,fy=2)\n",
    "cv2.imshow('Imagen', image)  # Muestra la imagen en una ventana\n",
    "cv2.waitKey(0)  # Espera hasta que se presione una tecla\n",
    "cv2.destroyAllWindows()  # Cierra la ventana"
   ]
  },
  {
   "cell_type": "code",
   "execution_count": 2,
   "metadata": {},
   "outputs": [],
   "source": [
    "def rect(x1,y1,x2,y2,img,rep,dire,sep):\n",
    "    rectangulos = []\n",
    "    for i in range(rep):\n",
    "        punto1 = (x1, y1)\n",
    "        punto2 = (x2, y2)\n",
    "        rectangulos.append([(x1, y1),(x2, y2)])\n",
    "        cv2.rectangle(img, punto1, punto2, (0, 255, 0), 1)\n",
    "\n",
    "        if dire == 'down':\n",
    "            # Alto de un solo rectángulo\n",
    "            alto_rectangulo = y2 - y1\n",
    "            # Actualiza las coordenadas para el siguiente rectángulo hacia abajo\n",
    "            y1 += alto_rectangulo + sep\n",
    "            y2 += alto_rectangulo + sep\n",
    "        if dire == 'left':\n",
    "            # ancho de un solo rectángulo\n",
    "            ancho_rectangulo = x2 - x1\n",
    "            # Actualiza las coordenadas para el siguiente rectángulo hacia la izquierda\n",
    "            x1 -= ancho_rectangulo - sep\n",
    "            x2 -= ancho_rectangulo - sep\n",
    "    return rectangulos"
   ]
  },
  {
   "cell_type": "code",
   "execution_count": 8,
   "metadata": {},
   "outputs": [],
   "source": [
    "# Cargar la imagen\n",
    "rectangles = []\n",
    "img = cv2.imread('rejilla1.jpg')\n",
    "object_x = 1437\n",
    "\n",
    "wobjectsimbol = 23\n",
    "wobjectdist = 73\n",
    "wobjectname = 120\n",
    "wobjecttype = 120\n",
    "\n",
    "xobjectsimbol = object_x + wobjectsimbol\n",
    "xobjectdist = xobjectsimbol + wobjectdist\n",
    "xobjectname = xobjectdist + wobjectname\n",
    "xobjecttype = xobjectname + wobjecttype\n",
    "\n",
    "\n",
    "object_simbol = rect(object_x,219,xobjectsimbol,237,img,40,'down',0)\n",
    "rectangles.append[object_simbol]\n",
    "object_dist = rect(xobjectsimbol,219,xobjectdist,237,img,40,'down',0)\n",
    "rectangles.append[object_dist]\n",
    "object_name = rect(xobjectdist,219,xobjectname,237,img,40,'down',0)\n",
    "rectangles.append[object_name]\n",
    "object_type = rect(xobjectname,219,xobjecttype,237,img,40,'down',0)\n",
    "rectangles.append[object_type]\n",
    "\n",
    "\n",
    "dron_x = 1201\n",
    "#wdronname = \n",
    "\n",
    "\n",
    "drons_name = rect(dron_x,920,1421,940,img,5,'down',2)\n",
    "rectangles.append[drons_name]\n",
    "drons_status = rect(dron_x,920,1421,940,img,5,'down',2)\n",
    "rectangles.append[drons_status]\n",
    "drons_damage = rect(dron_x,920,1421,940,img,5,'down',2)\n",
    "rectangles.append[drons_damage]\n",
    "\n",
    "\n",
    "tarjets_coor = rect(1362,24,1482,151,img,3,'left',0)\n",
    "anomalies_id = rect(147,683,210,703,img,10,'down',0)\n",
    "anomalies_name = rect(215,683,337,703,img,10,'down',0)\n",
    "\n",
    "\n",
    "img = cv2.resize(img,(0,0),fx=0.8,fy=0.8)"
   ]
  },
  {
   "cell_type": "code",
   "execution_count": 9,
   "metadata": {},
   "outputs": [],
   "source": [
    "# Función para verificar si un punto está dentro de un rectángulo\n",
    "def punto_en_rectangulo(x, y, rect):\n",
    "    if x > rect[0][0] and x < rect[1][0] and y > rect[0][1] and y < rect[1][1]:\n",
    "        return True\n",
    "    return False"
   ]
  },
  {
   "cell_type": "code",
   "execution_count": 14,
   "metadata": {},
   "outputs": [],
   "source": [
    "# Función de manejo de eventos del ratón\n",
    "def manejar_eventos_raton(event, x, y, flags, param):\n",
    "    if event == cv2.EVENT_LBUTTONDOWN:\n",
    "        # Verificar si el clic está dentro de algún rectángulo\n",
    "        for rect in rectangles:\n",
    "            for pos,a in enumerate(rect):\n",
    "                if punto_en_rectangulo(x, y, a):\n",
    "                    print(f\"Se hizo clic dentro de rats simbol {pos + 1}\")"
   ]
  },
  {
   "cell_type": "code",
   "execution_count": 15,
   "metadata": {},
   "outputs": [],
   "source": [
    "# Crear una ventana redimensionable\n",
    "#cv2.namedWindow(\"Imagen con Rectángulos\", cv2.WINDOW_NORMAL)\n",
    "\n",
    "# Muestra la imagen con los rectángulos\n",
    "cv2.imshow('Imagen con Rectángulos', img)\n",
    "\n",
    "cv2.setMouseCallback('Imagen con Rectángulos', manejar_eventos_raton)\n",
    "\n",
    "# Maximizar la ventana\n",
    "#cv2.setWindowProperty(\"Imagen con Rectángulos\", cv2.WND_PROP_FULLSCREEN, cv2.WINDOW_FULLSCREEN)\n",
    "\n",
    "cv2.waitKey(0)\n",
    "\n",
    "# Cierra la ventana de visualización\n",
    "cv2.destroyAllWindows()"
   ]
  },
  {
   "cell_type": "code",
   "execution_count": 82,
   "metadata": {},
   "outputs": [],
   "source": [
    "import cv2\n",
    "import numpy as np\n",
    "\n",
    "# Carga la imagen de la interfaz gráfica\n",
    "imagen = cv2.imread('text_plus.jpg')  # Reemplaza 'ruta_de_la_imagen.png' con tu propia ruta\n",
    "\n",
    "# Convierte la imagen a escala de grises\n",
    "gris = cv2.cvtColor(imagen, cv2.COLOR_BGR2GRAY)\n",
    "\n",
    "# Aplica desenfoque gaussiano y umbral adaptativo\n",
    "blur = cv2.GaussianBlur(gris, (5, 5), 0)\n",
    "umbral_adaptativo = cv2.adaptiveThreshold(blur, 255, cv2.ADAPTIVE_THRESH_GAUSSIAN_C, cv2.THRESH_BINARY_INV, 11, 5)\n",
    "\n",
    "# Encuentra los contornos en la imagen umbralizada\n",
    "contornos, _ = cv2.findContours(umbral_adaptativo, cv2.RETR_EXTERNAL, cv2.CHAIN_APPROX_SIMPLE)\n",
    "\n",
    "# Dibuja los contornos de las celdas detectadas\n",
    "for contorno in contornos:\n",
    "    area = cv2.contourArea(contorno)\n",
    "    if 100 < area < 10000:  # Ajusta estos valores según tu imagen\n",
    "        x, y, w, h = cv2.boundingRect(contorno)\n",
    "        cv2.rectangle(imagen, (x, y), (x + w, y + h), (0, 255, 0), 1)\n",
    "\n",
    "imagen = cv2.resize(imagen,(0,0),fx=2,fy=2)\n",
    "\n",
    "# Muestra la imagen con los contornos de las celdas detectadas\n",
    "cv2.imshow('Celdas Detectadas', umbral_adaptativo)\n",
    "cv2.waitKey(0)\n",
    "cv2.destroyAllWindows()"
   ]
  }
 ],
 "metadata": {
  "kernelspec": {
   "display_name": "AI_eveonline",
   "language": "python",
   "name": "python3"
  },
  "language_info": {
   "codemirror_mode": {
    "name": "ipython",
    "version": 3
   },
   "file_extension": ".py",
   "mimetype": "text/x-python",
   "name": "python",
   "nbconvert_exporter": "python",
   "pygments_lexer": "ipython3",
   "version": "3.8.18"
  }
 },
 "nbformat": 4,
 "nbformat_minor": 2
}
