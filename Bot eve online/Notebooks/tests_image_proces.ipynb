{
 "cells": [
  {
   "cell_type": "code",
   "execution_count": 1,
   "metadata": {},
   "outputs": [],
   "source": [
    "import cv2 as cv\n",
    "import numpy as np\n"
   ]
  },
  {
   "cell_type": "code",
   "execution_count": 52,
   "metadata": {},
   "outputs": [],
   "source": [
    "image = cv.imread('combat_rats.jpg')\n",
    "image = cv.cvtColor(image, cv.COLOR_BGR2GRAY)\n",
    "image = cv.resize(image,(0,0),fx=2,fy=2)\n",
    "cv.imshow('Imagen', image)  # Muestra la imagen en una ventana\n",
    "cv.waitKey(0)  # Espera hasta que se presione una tecla\n",
    "cv.destroyAllWindows()  # Cierra la ventana"
   ]
  },
  {
   "cell_type": "code",
   "execution_count": 54,
   "metadata": {},
   "outputs": [],
   "source": [
    "import cv2\n",
    "import numpy as np\n",
    "\n",
    "# Cargar la imagen\n",
    "img = cv2.imread('complete.jpg')\n",
    "\n",
    "# Definir las coordenadas de inicio y fin de la zona rectangular\n",
    "x_start, y_start = 100, 100  # Coordenadas de inicio\n",
    "x_end, y_end = 400, 400      # Coordenadas de fin\n",
    "\n",
    "# Número de divisiones en filas y columnas\n",
    "num_rows = 5\n",
    "num_cols = 5\n",
    "\n",
    "# Calcular los intervalos entre las líneas de la rejilla\n",
    "row_interval = (y_end - y_start) // (num_rows + 1)\n",
    "col_interval = (x_end - x_start) // (num_cols + 1)\n",
    "\n",
    "# Procesar cada celda de la rejilla\n",
    "for i in range(num_rows):\n",
    "    for j in range(num_cols):\n",
    "        # Coordenadas de la esquina superior izquierda de la celda\n",
    "        x_cell_start = x_start + j * col_interval\n",
    "        y_cell_start = y_start + i * row_interval\n",
    "\n",
    "        # Coordenadas de la esquina inferior derecha de la celda\n",
    "        x_cell_end = x_start + (j + 1) * col_interval\n",
    "        y_cell_end = y_start + (i + 1) * row_interval\n",
    "\n",
    "        # Extraer la región de interés (ROI) de la celda\n",
    "        cell_roi = img[y_cell_start:y_cell_end, x_cell_start:x_cell_end]\n",
    "\n",
    "        # Calcular el valor promedio de la celda\n",
    "        average_value = np.mean(cell_roi)\n",
    "\n",
    "        # Dibujar un rectángulo alrededor de la celda\n",
    "        cv2.rectangle(img, (x_cell_start, y_cell_start), (x_cell_end, y_cell_end), (0, 0, 255), 1)\n",
    "\n",
    "        # Mostrar el valor promedio en la imagen\n",
    "        cv2.putText(img, f\"{average_value:.2f}\", (x_cell_start + 5, y_cell_start + 15),\n",
    "                    cv2.FONT_HERSHEY_SIMPLEX, 0.5, (255, 0, 0), 1)\n",
    "\n",
    "# Mostrar la imagen con la rejilla y valores promedio\n",
    "cv2.imshow(\"Rejilla con Contenido de Celdas\", img)\n",
    "cv2.waitKey(0)\n",
    "cv2.destroyAllWindows()"
   ]
  }
 ],
 "metadata": {
  "kernelspec": {
   "display_name": "AI_eveonline",
   "language": "python",
   "name": "python3"
  },
  "language_info": {
   "codemirror_mode": {
    "name": "ipython",
    "version": 3
   },
   "file_extension": ".py",
   "mimetype": "text/x-python",
   "name": "python",
   "nbconvert_exporter": "python",
   "pygments_lexer": "ipython3",
   "version": "3.8.18"
  }
 },
 "nbformat": 4,
 "nbformat_minor": 2
}
