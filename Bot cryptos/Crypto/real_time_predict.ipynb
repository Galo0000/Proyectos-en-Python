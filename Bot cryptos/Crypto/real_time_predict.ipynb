{
 "cells": [
  {
   "cell_type": "code",
   "execution_count": 10,
   "metadata": {},
   "outputs": [],
   "source": [
    "import torch\n",
    "import torch.nn as nn\n",
    "import numpy as np\n",
    "import pandas as pd\n",
    "import matplotlib.pyplot as plt\n",
    "import os\n",
    "from sklearn.metrics import mean_squared_error\n",
    "from binance.client import Client\n",
    "from datetime import datetime\n",
    "import userbinance\n",
    "import talib\n",
    "import time"
   ]
  },
  {
   "cell_type": "code",
   "execution_count": 11,
   "metadata": {},
   "outputs": [],
   "source": [
    "def prepare_date(klines):\n",
    "    klines = np.array(klines).astype(np.float64)[:, 0:6]\n",
    "    RSI = talib.RSI(klines[:,4], timeperiod=14).round(2)\n",
    "    EMA20 = talib.EMA(klines[:,4], timeperiod=20).round(2)\n",
    "    EMA40 = talib.EMA(klines[:,4], timeperiod=40).round(2)\n",
    "    EMA60 = talib.EMA(klines[:,4], timeperiod=60).round(2)\n",
    "\n",
    "    fastk, fastd = talib.STOCHRSI(klines[:,4], timeperiod=14)\n",
    "    fastk = fastk.round(2)\n",
    "    fastd = fastd.round(2)\n",
    "\n",
    "    macd_line, signal_line, _ = talib.MACD(klines[:,4])\n",
    "    macd_line = macd_line.round(2)\n",
    "    signal_line = signal_line.round(2)\n",
    "\n",
    "    upper, middle,lower = talib.BBANDS(klines[:,4], timeperiod=5)\n",
    "    upper = upper.round(2)\n",
    "    middle = middle.round(2)\n",
    "    lower = lower.round(2)\n",
    "\n",
    "    adx_values = talib.ADX(klines[:,2], klines[:,3], klines[:,4], timeperiod=14).round(2)\n",
    "\n",
    "    indicators = np.column_stack((RSI, EMA20, EMA40,EMA60,fastk,fastd,macd_line,signal_line,upper,middle,lower,adx_values))\n",
    "    # Concatena\n",
    "    klines = np.column_stack((klines, indicators))\n",
    "    \n",
    "    # elimina la primera columna\n",
    "    klines = klines[-10:-1, 1:]\n",
    "    return klines\n",
    "    \n",
    "    "
   ]
  },
  {
   "cell_type": "code",
   "execution_count": 12,
   "metadata": {},
   "outputs": [],
   "source": [
    "# Modificar la definición del modelo LSTM para ser más complejo\n",
    "class ComplexLSTM(nn.Module):\n",
    "    def __init__(self, input_size, hidden_layer_size, output_size, num_layers):\n",
    "        super().__init__()\n",
    "        self.hidden_layer_size = hidden_layer_size\n",
    "        self.num_layers = num_layers\n",
    "\n",
    "        # Capa LSTM con múltiples capas apiladas\n",
    "        self.lstm = nn.LSTM(input_size, hidden_layer_size, num_layers, batch_first=True).cuda()\n",
    "\n",
    "        # Capa completamente conectada\n",
    "        self.linear = nn.Linear(hidden_layer_size, output_size).cuda()\n",
    "\n",
    "    def forward(self, input_seq):\n",
    "        # Inicializar las celdas ocultas\n",
    "        h0 = torch.zeros(self.num_layers, input_seq.size(0), self.hidden_layer_size).cuda()\n",
    "        c0 = torch.zeros(self.num_layers, input_seq.size(0), self.hidden_layer_size).cuda()\n",
    "\n",
    "        # Propagación hacia adelante\n",
    "        lstm_out, _ = self.lstm(input_seq, (h0, c0))\n",
    "        predictions = self.linear(lstm_out[:, -1, :])\n",
    "        return predictions"
   ]
  },
  {
   "cell_type": "code",
   "execution_count": 13,
   "metadata": {},
   "outputs": [
    {
     "name": "stdout",
     "output_type": "stream",
     "text": [
      "Dispositivo actual: cuda\n"
     ]
    }
   ],
   "source": [
    "# Verifica si tienes una GPU disponible y configura el dispositivo.\n",
    "device = torch.device(\"cuda\" if torch.cuda.is_available() else \"cpu\")\n",
    "print(\"Dispositivo actual:\", device)"
   ]
  },
  {
   "cell_type": "code",
   "execution_count": 14,
   "metadata": {},
   "outputs": [],
   "source": [
    "interval = Client.KLINE_INTERVAL_4HOUR\n",
    "client = Client(userbinance.API_KEY, userbinance.API_SECRET, tld='com')\n",
    "symbolticker = 'BTCUSDT'"
   ]
  },
  {
   "cell_type": "code",
   "execution_count": 15,
   "metadata": {},
   "outputs": [
    {
     "data": {
      "text/plain": [
       "ComplexLSTM(\n",
       "  (lstm): LSTM(16, 100, num_layers=4, batch_first=True)\n",
       "  (linear): Linear(in_features=100, out_features=1, bias=True)\n",
       ")"
      ]
     },
     "execution_count": 15,
     "metadata": {},
     "output_type": "execute_result"
    }
   ],
   "source": [
    "# Ruta donde guardaste el modelo entrenado\n",
    "ruta_modelo_guardado = 'checkpoints/save_BTC_4hs.pth'\n",
    "modelo = ComplexLSTM(input_size=16, hidden_layer_size=100, output_size=1, num_layers=4)\n",
    "# Carga los pesos del modelo\n",
    "checkpoint = torch.load(ruta_modelo_guardado)\n",
    "modelo.load_state_dict(checkpoint['model_state_dict'])\n",
    "# Coloca el modelo en modo de evaluación (importante para la inferencia)\n",
    "modelo.eval()"
   ]
  },
  {
   "cell_type": "code",
   "execution_count": 16,
   "metadata": {},
   "outputs": [],
   "source": [
    "np.set_printoptions(threshold=np.inf)"
   ]
  },
  {
   "cell_type": "code",
   "execution_count": 17,
   "metadata": {},
   "outputs": [
    {
     "data": {
      "text/plain": [
       "torch.Size([9, 17])"
      ]
     },
     "execution_count": 17,
     "metadata": {},
     "output_type": "execute_result"
    }
   ],
   "source": [
    "klines = client.get_klines(symbol=symbolticker, interval=Client.KLINE_INTERVAL_4HOUR,limit=100)\n",
    "klines =  prepare_date(klines)\n",
    "new_data_tensor = torch.tensor(klines, dtype=torch.float32).to('cuda')\n",
    "new_data_tensor.shape"
   ]
  },
  {
   "cell_type": "markdown",
   "metadata": {},
   "source": [
    "***"
   ]
  },
  {
   "cell_type": "code",
   "execution_count": 18,
   "metadata": {},
   "outputs": [
    {
     "ename": "RuntimeError",
     "evalue": "For unbatched 2-D input, hx and cx should also be 2-D but got (3-D, 3-D) tensors",
     "output_type": "error",
     "traceback": [
      "\u001b[1;31m---------------------------------------------------------------------------\u001b[0m",
      "\u001b[1;31mRuntimeError\u001b[0m                              Traceback (most recent call last)",
      "\u001b[1;32mh:\\Repositorios\\Proyectos-en-Python\\Bot cryptos\\Crypto\\real_time_predict.ipynb Cell 10\u001b[0m line \u001b[0;36m1\n\u001b[0;32m     <a href='vscode-notebook-cell:/h%3A/Repositorios/Proyectos-en-Python/Bot%20cryptos/Crypto/real_time_predict.ipynb#X12sZmlsZQ%3D%3D?line=11'>12</a>\u001b[0m \u001b[39m# Realiza la predicción\u001b[39;00m\n\u001b[0;32m     <a href='vscode-notebook-cell:/h%3A/Repositorios/Proyectos-en-Python/Bot%20cryptos/Crypto/real_time_predict.ipynb#X12sZmlsZQ%3D%3D?line=12'>13</a>\u001b[0m \u001b[39mwith\u001b[39;00m torch\u001b[39m.\u001b[39mno_grad():\n\u001b[1;32m---> <a href='vscode-notebook-cell:/h%3A/Repositorios/Proyectos-en-Python/Bot%20cryptos/Crypto/real_time_predict.ipynb#X12sZmlsZQ%3D%3D?line=13'>14</a>\u001b[0m     prediccion \u001b[39m=\u001b[39m modelo(new_data_tensor)\n\u001b[0;32m     <a href='vscode-notebook-cell:/h%3A/Repositorios/Proyectos-en-Python/Bot%20cryptos/Crypto/real_time_predict.ipynb#X12sZmlsZQ%3D%3D?line=15'>16</a>\u001b[0m \u001b[39m# Procesa la predicción según sea necesario\u001b[39;00m\n\u001b[0;32m     <a href='vscode-notebook-cell:/h%3A/Repositorios/Proyectos-en-Python/Bot%20cryptos/Crypto/real_time_predict.ipynb#X12sZmlsZQ%3D%3D?line=16'>17</a>\u001b[0m valor_predicho \u001b[39m=\u001b[39m prediccion\u001b[39m.\u001b[39mitem()\n",
      "File \u001b[1;32mc:\\Users\\Guille\\anaconda3\\envs\\IAs\\lib\\site-packages\\torch\\nn\\modules\\module.py:1518\u001b[0m, in \u001b[0;36mModule._wrapped_call_impl\u001b[1;34m(self, *args, **kwargs)\u001b[0m\n\u001b[0;32m   1516\u001b[0m     \u001b[39mreturn\u001b[39;00m \u001b[39mself\u001b[39m\u001b[39m.\u001b[39m_compiled_call_impl(\u001b[39m*\u001b[39margs, \u001b[39m*\u001b[39m\u001b[39m*\u001b[39mkwargs)  \u001b[39m# type: ignore[misc]\u001b[39;00m\n\u001b[0;32m   1517\u001b[0m \u001b[39melse\u001b[39;00m:\n\u001b[1;32m-> 1518\u001b[0m     \u001b[39mreturn\u001b[39;00m \u001b[39mself\u001b[39m\u001b[39m.\u001b[39m_call_impl(\u001b[39m*\u001b[39margs, \u001b[39m*\u001b[39m\u001b[39m*\u001b[39mkwargs)\n",
      "File \u001b[1;32mc:\\Users\\Guille\\anaconda3\\envs\\IAs\\lib\\site-packages\\torch\\nn\\modules\\module.py:1527\u001b[0m, in \u001b[0;36mModule._call_impl\u001b[1;34m(self, *args, **kwargs)\u001b[0m\n\u001b[0;32m   1522\u001b[0m \u001b[39m# If we don't have any hooks, we want to skip the rest of the logic in\u001b[39;00m\n\u001b[0;32m   1523\u001b[0m \u001b[39m# this function, and just call forward.\u001b[39;00m\n\u001b[0;32m   1524\u001b[0m \u001b[39mif\u001b[39;00m \u001b[39mnot\u001b[39;00m (\u001b[39mself\u001b[39m\u001b[39m.\u001b[39m_backward_hooks \u001b[39mor\u001b[39;00m \u001b[39mself\u001b[39m\u001b[39m.\u001b[39m_backward_pre_hooks \u001b[39mor\u001b[39;00m \u001b[39mself\u001b[39m\u001b[39m.\u001b[39m_forward_hooks \u001b[39mor\u001b[39;00m \u001b[39mself\u001b[39m\u001b[39m.\u001b[39m_forward_pre_hooks\n\u001b[0;32m   1525\u001b[0m         \u001b[39mor\u001b[39;00m _global_backward_pre_hooks \u001b[39mor\u001b[39;00m _global_backward_hooks\n\u001b[0;32m   1526\u001b[0m         \u001b[39mor\u001b[39;00m _global_forward_hooks \u001b[39mor\u001b[39;00m _global_forward_pre_hooks):\n\u001b[1;32m-> 1527\u001b[0m     \u001b[39mreturn\u001b[39;00m forward_call(\u001b[39m*\u001b[39margs, \u001b[39m*\u001b[39m\u001b[39m*\u001b[39mkwargs)\n\u001b[0;32m   1529\u001b[0m \u001b[39mtry\u001b[39;00m:\n\u001b[0;32m   1530\u001b[0m     result \u001b[39m=\u001b[39m \u001b[39mNone\u001b[39;00m\n",
      "\u001b[1;32mh:\\Repositorios\\Proyectos-en-Python\\Bot cryptos\\Crypto\\real_time_predict.ipynb Cell 10\u001b[0m line \u001b[0;36m2\n\u001b[0;32m     <a href='vscode-notebook-cell:/h%3A/Repositorios/Proyectos-en-Python/Bot%20cryptos/Crypto/real_time_predict.ipynb#X12sZmlsZQ%3D%3D?line=16'>17</a>\u001b[0m c0 \u001b[39m=\u001b[39m torch\u001b[39m.\u001b[39mzeros(\u001b[39mself\u001b[39m\u001b[39m.\u001b[39mnum_layers, input_seq\u001b[39m.\u001b[39msize(\u001b[39m0\u001b[39m), \u001b[39mself\u001b[39m\u001b[39m.\u001b[39mhidden_layer_size)\u001b[39m.\u001b[39mcuda()\n\u001b[0;32m     <a href='vscode-notebook-cell:/h%3A/Repositorios/Proyectos-en-Python/Bot%20cryptos/Crypto/real_time_predict.ipynb#X12sZmlsZQ%3D%3D?line=18'>19</a>\u001b[0m \u001b[39m# Propagación hacia adelante\u001b[39;00m\n\u001b[1;32m---> <a href='vscode-notebook-cell:/h%3A/Repositorios/Proyectos-en-Python/Bot%20cryptos/Crypto/real_time_predict.ipynb#X12sZmlsZQ%3D%3D?line=19'>20</a>\u001b[0m lstm_out, _ \u001b[39m=\u001b[39m \u001b[39mself\u001b[39;49m\u001b[39m.\u001b[39;49mlstm(input_seq, (h0, c0))\n\u001b[0;32m     <a href='vscode-notebook-cell:/h%3A/Repositorios/Proyectos-en-Python/Bot%20cryptos/Crypto/real_time_predict.ipynb#X12sZmlsZQ%3D%3D?line=20'>21</a>\u001b[0m predictions \u001b[39m=\u001b[39m \u001b[39mself\u001b[39m\u001b[39m.\u001b[39mlinear(lstm_out[:, \u001b[39m-\u001b[39m\u001b[39m1\u001b[39m, :])\n\u001b[0;32m     <a href='vscode-notebook-cell:/h%3A/Repositorios/Proyectos-en-Python/Bot%20cryptos/Crypto/real_time_predict.ipynb#X12sZmlsZQ%3D%3D?line=21'>22</a>\u001b[0m \u001b[39mreturn\u001b[39;00m predictions\n",
      "File \u001b[1;32mc:\\Users\\Guille\\anaconda3\\envs\\IAs\\lib\\site-packages\\torch\\nn\\modules\\module.py:1518\u001b[0m, in \u001b[0;36mModule._wrapped_call_impl\u001b[1;34m(self, *args, **kwargs)\u001b[0m\n\u001b[0;32m   1516\u001b[0m     \u001b[39mreturn\u001b[39;00m \u001b[39mself\u001b[39m\u001b[39m.\u001b[39m_compiled_call_impl(\u001b[39m*\u001b[39margs, \u001b[39m*\u001b[39m\u001b[39m*\u001b[39mkwargs)  \u001b[39m# type: ignore[misc]\u001b[39;00m\n\u001b[0;32m   1517\u001b[0m \u001b[39melse\u001b[39;00m:\n\u001b[1;32m-> 1518\u001b[0m     \u001b[39mreturn\u001b[39;00m \u001b[39mself\u001b[39m\u001b[39m.\u001b[39m_call_impl(\u001b[39m*\u001b[39margs, \u001b[39m*\u001b[39m\u001b[39m*\u001b[39mkwargs)\n",
      "File \u001b[1;32mc:\\Users\\Guille\\anaconda3\\envs\\IAs\\lib\\site-packages\\torch\\nn\\modules\\module.py:1527\u001b[0m, in \u001b[0;36mModule._call_impl\u001b[1;34m(self, *args, **kwargs)\u001b[0m\n\u001b[0;32m   1522\u001b[0m \u001b[39m# If we don't have any hooks, we want to skip the rest of the logic in\u001b[39;00m\n\u001b[0;32m   1523\u001b[0m \u001b[39m# this function, and just call forward.\u001b[39;00m\n\u001b[0;32m   1524\u001b[0m \u001b[39mif\u001b[39;00m \u001b[39mnot\u001b[39;00m (\u001b[39mself\u001b[39m\u001b[39m.\u001b[39m_backward_hooks \u001b[39mor\u001b[39;00m \u001b[39mself\u001b[39m\u001b[39m.\u001b[39m_backward_pre_hooks \u001b[39mor\u001b[39;00m \u001b[39mself\u001b[39m\u001b[39m.\u001b[39m_forward_hooks \u001b[39mor\u001b[39;00m \u001b[39mself\u001b[39m\u001b[39m.\u001b[39m_forward_pre_hooks\n\u001b[0;32m   1525\u001b[0m         \u001b[39mor\u001b[39;00m _global_backward_pre_hooks \u001b[39mor\u001b[39;00m _global_backward_hooks\n\u001b[0;32m   1526\u001b[0m         \u001b[39mor\u001b[39;00m _global_forward_hooks \u001b[39mor\u001b[39;00m _global_forward_pre_hooks):\n\u001b[1;32m-> 1527\u001b[0m     \u001b[39mreturn\u001b[39;00m forward_call(\u001b[39m*\u001b[39margs, \u001b[39m*\u001b[39m\u001b[39m*\u001b[39mkwargs)\n\u001b[0;32m   1529\u001b[0m \u001b[39mtry\u001b[39;00m:\n\u001b[0;32m   1530\u001b[0m     result \u001b[39m=\u001b[39m \u001b[39mNone\u001b[39;00m\n",
      "File \u001b[1;32mc:\\Users\\Guille\\anaconda3\\envs\\IAs\\lib\\site-packages\\torch\\nn\\modules\\rnn.py:871\u001b[0m, in \u001b[0;36mLSTM.forward\u001b[1;34m(self, input, hx)\u001b[0m\n\u001b[0;32m    868\u001b[0m     \u001b[39mif\u001b[39;00m hx[\u001b[39m0\u001b[39m]\u001b[39m.\u001b[39mdim() \u001b[39m!=\u001b[39m \u001b[39m2\u001b[39m \u001b[39mor\u001b[39;00m hx[\u001b[39m1\u001b[39m]\u001b[39m.\u001b[39mdim() \u001b[39m!=\u001b[39m \u001b[39m2\u001b[39m:\n\u001b[0;32m    869\u001b[0m         msg \u001b[39m=\u001b[39m (\u001b[39m\"\u001b[39m\u001b[39mFor unbatched 2-D input, hx and cx should \u001b[39m\u001b[39m\"\u001b[39m\n\u001b[0;32m    870\u001b[0m                \u001b[39mf\u001b[39m\u001b[39m\"\u001b[39m\u001b[39malso be 2-D but got (\u001b[39m\u001b[39m{\u001b[39;00mhx[\u001b[39m0\u001b[39m]\u001b[39m.\u001b[39mdim()\u001b[39m}\u001b[39;00m\u001b[39m-D, \u001b[39m\u001b[39m{\u001b[39;00mhx[\u001b[39m1\u001b[39m]\u001b[39m.\u001b[39mdim()\u001b[39m}\u001b[39;00m\u001b[39m-D) tensors\u001b[39m\u001b[39m\"\u001b[39m)\n\u001b[1;32m--> 871\u001b[0m         \u001b[39mraise\u001b[39;00m \u001b[39mRuntimeError\u001b[39;00m(msg)\n\u001b[0;32m    872\u001b[0m     hx \u001b[39m=\u001b[39m (hx[\u001b[39m0\u001b[39m]\u001b[39m.\u001b[39munsqueeze(\u001b[39m1\u001b[39m), hx[\u001b[39m1\u001b[39m]\u001b[39m.\u001b[39munsqueeze(\u001b[39m1\u001b[39m))\n\u001b[0;32m    873\u001b[0m \u001b[39m# Each batch of the hidden state should match the input sequence that\u001b[39;00m\n\u001b[0;32m    874\u001b[0m \u001b[39m# the user believes he/she is passing in.\u001b[39;00m\n",
      "\u001b[1;31mRuntimeError\u001b[0m: For unbatched 2-D input, hx and cx should also be 2-D but got (3-D, 3-D) tensors"
     ]
    }
   ],
   "source": [
    "while True:\n",
    "    # Realiza una solicitud a la API de Binance para obtener datos del par de criptomonedas\n",
    "    klines = client.get_klines(symbol=symbolticker, interval=Client.KLINE_INTERVAL_4HOUR,limit=100)\n",
    "    klines =  prepare_date(klines)\n",
    "        \n",
    "    # Realiza una predicción con el modelo\n",
    "    # Supongamos que tienes un nuevo punto de datos en tiempo real (por ejemplo, el precio actual)\n",
    "    # Prepara el punto de datos de la misma manera que durante el entrenamiento\n",
    "    # Asegúrate de tener todas las características necesarias\n",
    "    new_data_tensor = torch.tensor(klines, dtype=torch.float32).to('cuda')\n",
    "        \n",
    "    # Realiza la predicción\n",
    "    with torch.no_grad():\n",
    "        prediccion = modelo(new_data_tensor)\n",
    "        \n",
    "    # Procesa la predicción según sea necesario\n",
    "    valor_predicho = prediccion.item()\n",
    "        \n",
    "    # Imprime el precio actual y la predicción\n",
    "    print(f'Predicción: {valor_predicho}')\n",
    "\n",
    "    # Espera 1 segundo antes de realizar la siguiente solicitud\n",
    "    time.sleep(1)\n"
   ]
  },
  {
   "cell_type": "code",
   "execution_count": null,
   "metadata": {},
   "outputs": [],
   "source": []
  }
 ],
 "metadata": {
  "kernelspec": {
   "display_name": "ProyectML",
   "language": "python",
   "name": "python3"
  },
  "language_info": {
   "codemirror_mode": {
    "name": "ipython",
    "version": 3
   },
   "file_extension": ".py",
   "mimetype": "text/x-python",
   "name": "python",
   "nbconvert_exporter": "python",
   "pygments_lexer": "ipython3",
   "version": "3.9.18"
  }
 },
 "nbformat": 4,
 "nbformat_minor": 2
}
