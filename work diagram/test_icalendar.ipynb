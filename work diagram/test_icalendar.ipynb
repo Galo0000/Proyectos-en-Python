{
 "cells": [
  {
   "cell_type": "code",
   "execution_count": 37,
   "metadata": {},
   "outputs": [],
   "source": [
    "import icalendar\n",
    "from datetime import datetime, timedelta"
   ]
  },
  {
   "cell_type": "code",
   "execution_count": 35,
   "metadata": {},
   "outputs": [
    {
     "data": {
      "text/plain": [
       "[datetime.datetime(2024, 2, 22, 0, 0),\n",
       " datetime.datetime(2024, 2, 28, 0, 0),\n",
       " datetime.datetime(2024, 3, 5, 0, 0),\n",
       " datetime.datetime(2024, 3, 11, 0, 0),\n",
       " datetime.datetime(2024, 3, 17, 0, 0),\n",
       " datetime.datetime(2024, 3, 23, 0, 0),\n",
       " datetime.datetime(2024, 3, 29, 0, 0),\n",
       " datetime.datetime(2024, 4, 4, 0, 0),\n",
       " datetime.datetime(2024, 4, 10, 0, 0),\n",
       " datetime.datetime(2024, 4, 16, 0, 0),\n",
       " datetime.datetime(2024, 4, 22, 0, 0),\n",
       " datetime.datetime(2024, 4, 28, 0, 0),\n",
       " datetime.datetime(2024, 5, 4, 0, 0),\n",
       " datetime.datetime(2024, 5, 10, 0, 0),\n",
       " datetime.datetime(2024, 5, 16, 0, 0),\n",
       " datetime.datetime(2024, 5, 22, 0, 0),\n",
       " datetime.datetime(2024, 5, 28, 0, 0),\n",
       " datetime.datetime(2024, 6, 3, 0, 0),\n",
       " datetime.datetime(2024, 6, 9, 0, 0),\n",
       " datetime.datetime(2024, 6, 15, 0, 0),\n",
       " datetime.datetime(2024, 6, 21, 0, 0),\n",
       " datetime.datetime(2024, 6, 27, 0, 0),\n",
       " datetime.datetime(2024, 7, 3, 0, 0),\n",
       " datetime.datetime(2024, 7, 9, 0, 0),\n",
       " datetime.datetime(2024, 7, 15, 0, 0),\n",
       " datetime.datetime(2024, 7, 21, 0, 0),\n",
       " datetime.datetime(2024, 7, 27, 0, 0),\n",
       " datetime.datetime(2024, 8, 2, 0, 0),\n",
       " datetime.datetime(2024, 8, 8, 0, 0),\n",
       " datetime.datetime(2024, 8, 14, 0, 0),\n",
       " datetime.datetime(2024, 8, 20, 0, 0),\n",
       " datetime.datetime(2024, 8, 26, 0, 0),\n",
       " datetime.datetime(2024, 9, 1, 0, 0),\n",
       " datetime.datetime(2024, 9, 7, 0, 0),\n",
       " datetime.datetime(2024, 9, 13, 0, 0),\n",
       " datetime.datetime(2024, 9, 19, 0, 0),\n",
       " datetime.datetime(2024, 9, 25, 0, 0),\n",
       " datetime.datetime(2024, 10, 1, 0, 0),\n",
       " datetime.datetime(2024, 10, 7, 0, 0),\n",
       " datetime.datetime(2024, 10, 13, 0, 0),\n",
       " datetime.datetime(2024, 10, 19, 0, 0),\n",
       " datetime.datetime(2024, 10, 25, 0, 0),\n",
       " datetime.datetime(2024, 10, 31, 0, 0),\n",
       " datetime.datetime(2024, 11, 6, 0, 0),\n",
       " datetime.datetime(2024, 11, 12, 0, 0),\n",
       " datetime.datetime(2024, 11, 18, 0, 0),\n",
       " datetime.datetime(2024, 11, 24, 0, 0),\n",
       " datetime.datetime(2024, 11, 30, 0, 0),\n",
       " datetime.datetime(2024, 12, 6, 0, 0),\n",
       " datetime.datetime(2024, 12, 12, 0, 0),\n",
       " datetime.datetime(2024, 12, 18, 0, 0),\n",
       " datetime.datetime(2024, 12, 24, 0, 0),\n",
       " datetime.datetime(2024, 12, 30, 0, 0)]"
      ]
     },
     "execution_count": 35,
     "metadata": {},
     "output_type": "execute_result"
    }
   ],
   "source": [
    "# Obtener la fecha actual\n",
    "fecha_inicio = datetime(datetime.now().year, 2, 22)\n",
    "\n",
    "# Obtener el último día del año actual\n",
    "ultimo_dia_del_ano = datetime(fecha_inicio.year, 12, 31)\n",
    "\n",
    "# Calcular los días restantes\n",
    "dias_restantes = (ultimo_dia_del_ano - fecha_inicio).days\n",
    "\n",
    "# Crear una lista de fechas desde la fecha actual hasta el último día del año\n",
    "lista_fechas = []\n",
    "\n",
    "for i in range(dias_restantes + 1):\n",
    "    f = fecha_inicio + timedelta(days=i)\n",
    "    g = f.replace(second=0, microsecond=0, minute=0, hour=0)\n",
    "    \n",
    "    if i % 6 == 0:  # Realizar la operación cada 4 iteraciones\n",
    "        lista_fechas.append(g)  # Agregar la fecha a la lista\n",
    "\n",
    "# Imprimir la lista de fechas\n",
    "lista_fechas"
   ]
  },
  {
   "cell_type": "code",
   "execution_count": 36,
   "metadata": {},
   "outputs": [
    {
     "name": "stdout",
     "output_type": "stream",
     "text": [
      "Archivo 'evento.ics' creado con éxito.\n"
     ]
    }
   ],
   "source": [
    "# Crear un nuevo objeto de calendario\n",
    "calendario = icalendar.Calendar()\n",
    "\n",
    "# Crear un evento\n",
    "evento = icalendar.Event()\n",
    "\n",
    "# Configurar las propiedades del evento\n",
    "for day in lista_fechas:\n",
    "    tempday = day\n",
    "    for i in range(2):\n",
    "        evento.add('summary', 'trabajo_dia')\n",
    "        evento.add('dtstart', tempday.replace(hour=7))\n",
    "        evento.add('dtend', tempday.replace(hour=19))\n",
    "        tempday = tempday + timedelta(days=1)\n",
    "    for i in range(2):\n",
    "        evento.add('summary', 'trabajo_noche')\n",
    "        evento.add('dtstart', tempday.replace(hour=19))\n",
    "        tempday = tempday + timedelta(days=1)\n",
    "        evento.add('dtend', tempday.replace(hour=7))\n",
    "    evento.add('summary', 'franco')\n",
    "    evento.add('dtstart', tempday.replace(hour=7))\n",
    "    tempday = tempday + timedelta(days=2)\n",
    "    evento.add('dtend', tempday.replace(hour=7))\n",
    "\n",
    "\n",
    "# Añadir el evento al calendario\n",
    "calendario.add_component(evento)\n",
    "\n",
    "# Guardar el calendario en un archivo .ics\n",
    "with open('calendario.ics', 'wb') as f:\n",
    "    f.write(calendario.to_ical())\n",
    "\n",
    "print(\"Archivo 'evento.ics' creado con éxito.\")"
   ]
  },
  {
   "cell_type": "code",
   "execution_count": 41,
   "metadata": {},
   "outputs": [
    {
     "name": "stdout",
     "output_type": "stream",
     "text": [
      "El mejor rango de fechas sin eventos es desde 0001-01-01 00:00:00 hasta 0001-01-01 00:00:00\n"
     ]
    }
   ],
   "source": [
    "# Función para cargar eventos desde un archivo .ics\n",
    "def cargar_eventos(archivo_ics):\n",
    "    with open(archivo_ics, 'rb') as f:\n",
    "        calendario = icalendar.Calendar.from_ical(f.read())\n",
    "        eventos = []\n",
    "        for evento in calendario.walk('vevent'):\n",
    "            inicio = evento.get('dtstart')\n",
    "            if isinstance(inicio, list):\n",
    "                inicio = inicio[0]  # Tomar el primer elemento de la lista si es una lista\n",
    "            inicio = inicio.dt  # Acceder al atributo dt después de obtener el primer elemento\n",
    "        \n",
    "            fin = evento.get('dtend')\n",
    "            if isinstance(fin, list):\n",
    "                fin = fin[0]  # Tomar el primer elemento de la lista si es una lista\n",
    "            fin = fin.dt  # Acceder al atributo dt después de obtener el primer elemento\n",
    "\n",
    "        return eventos\n",
    "\n",
    "# Función para encontrar el mejor rango de fechas sin eventos\n",
    "def mejor_rango_sin_eventos(eventos, duracion_minima):\n",
    "    eventos.sort(key=lambda x: x[0])\n",
    "    mejor_rango_inicio = datetime.min\n",
    "    mejor_rango_fin = datetime.min\n",
    "    maximo_sin_eventos = timedelta()\n",
    "\n",
    "    for inicio, fin in eventos:\n",
    "        duracion = inicio - mejor_rango_fin\n",
    "        if duracion >= duracion_minima:\n",
    "            if duracion > maximo_sin_eventos:\n",
    "                mejor_rango_inicio = mejor_rango_fin\n",
    "                mejor_rango_fin = inicio\n",
    "                maximo_sin_eventos = duracion\n",
    "\n",
    "    return mejor_rango_inicio, mejor_rango_fin\n",
    "\n",
    "# Ejemplo de uso\n",
    "archivo_ics = 'calendario.ics'  # Cambia esto por la ruta de tu archivo .ics\n",
    "eventos = cargar_eventos(archivo_ics)\n",
    "duracion_minima = timedelta(days=1)\n",
    "mejor_rango_inicio, mejor_rango_fin = mejor_rango_sin_eventos(eventos, duracion_minima)\n",
    "\n",
    "print(\"El mejor rango de fechas sin eventos es desde\", mejor_rango_inicio, \"hasta\", mejor_rango_fin)\n"
   ]
  }
 ],
 "metadata": {
  "kernelspec": {
   "display_name": "IAs",
   "language": "python",
   "name": "python3"
  },
  "language_info": {
   "codemirror_mode": {
    "name": "ipython",
    "version": 3
   },
   "file_extension": ".py",
   "mimetype": "text/x-python",
   "name": "python",
   "nbconvert_exporter": "python",
   "pygments_lexer": "ipython3",
   "version": "3.9.18"
  }
 },
 "nbformat": 4,
 "nbformat_minor": 2
}
